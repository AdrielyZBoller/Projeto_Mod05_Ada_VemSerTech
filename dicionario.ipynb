{
 "cells": [
  {
   "cell_type": "markdown",
   "metadata": {},
   "source": [
    "Variável| Descrição\n",
    "---------|----------\n",
    "**Year:**| O ano da data do voo.\n",
    "**Month:**| O mês da data do voo.\n",
    "**DayofMonth:**| O dia do mês da data do voo.\n",
    "**DayOfWeek:**| O dia da semana da data do voo (1 para segunda-feira, 2 para terça-feira, e assim por diante).\n",
    "**DepTime:**| A hora de partida real do voo (formato HHMM).\n",
    "**CRSDepTime:**| A hora de partida programada do voo (formato HHMM).\n",
    "**ArrTime:**| A hora de chegada real do voo (formato HHMM).\n",
    "**CRSArrTime:**| A hora de chegada programada do voo (formato HHMM).\n",
    "**UniqueCarrier:**| O código do transportador aéreo.\n",
    "**FlightNum:**| O número do voo.\n",
    "**TailNum:**| O número de cauda da aeronave.\n",
    "**ActualElapsedTime:**| O tempo real de voo em minutos.\n",
    "**CRSElapsedTime:**| O tempo de voo programado em minutos.\n",
    "**AirTime:**| O tempo real no ar em minutos.\n",
    "**ArrDelay:**| O atraso na chegada em minutos.\n",
    "**DepDelay:**| O atraso na partida em minutos.\n",
    "**Origin:**| O aeroporto de origem do voo.\n",
    "**Dest:**| O aeroporto de destino do voo.\n",
    "**Distance:**| A distância percorrida em milhas.\n",
    "**TaxiIn:**| O tempo desde que a aeronave começa a se mover na pista até o momento em que efetivamente decola. Antes da decolagem\n",
    "**TaxiOut:**| O tempo desde que a aeronave toca o solo até chegar ao portão de desembarque no pouso.\n",
    "**Cancelled:**| Indica se o voo foi cancelado (1 para sim, 0 para não).\n",
    "**CancellationCode:**| O código de cancelamento, se o voo foi cancelado. Sendo A = transportadora, B = clima, C = NAS(National Airspace System), D = segurança\n",
    "**Diverted:**| Indica se o voo foi desviado (1 para sim, 0 para não).\n",
    "**CarrierDelay:**| O tempo de atraso atribuído à companhia aérea em minutos.\n",
    "**WeatherDelay:**| O tempo de atraso atribuído ao clima em minutos.\n",
    "**NASDelay:**| O tempo de atraso atribuído ao Sistema Nacional de Aviação em minutos.\n",
    "**SecurityDelay:**| O tempo de atraso atribuído à segurança em minutos.\n",
    "**LateAircraftDelay:**| O tempo de atraso atribuído à aeronave em minutos."
   ]
  }
 ],
 "metadata": {
  "language_info": {
   "name": "python"
  }
 },
 "nbformat": 4,
 "nbformat_minor": 2
}
