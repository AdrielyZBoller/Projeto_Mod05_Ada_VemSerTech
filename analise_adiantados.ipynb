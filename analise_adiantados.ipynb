{
 "cells": [
  {
   "cell_type": "markdown",
   "metadata": {},
   "source": [
    "# Importando Bibliotecas"
   ]
  },
  {
   "cell_type": "code",
   "execution_count": 1,
   "metadata": {},
   "outputs": [],
   "source": [
    "# Ignorar avisos \n",
    "import warnings\n",
    "warnings.filterwarnings('ignore')"
   ]
  },
  {
   "cell_type": "code",
   "execution_count": 2,
   "metadata": {},
   "outputs": [],
   "source": [
    "import pandas as pd\n",
    "import numpy as np\n",
    "import seaborn as sns\n",
    "import matplotlib.pyplot as plt\n",
    "import geopandas as gpd"
   ]
  },
  {
   "cell_type": "markdown",
   "metadata": {},
   "source": [
    "## Carragando o Banco de Dados"
   ]
  },
  {
   "cell_type": "code",
   "execution_count": 3,
   "metadata": {},
   "outputs": [],
   "source": [
    "df = pd.read_csv('DelayedFlights.zip')"
   ]
  },
  {
   "cell_type": "markdown",
   "metadata": {},
   "source": [
    "Mostrar todas as colunas"
   ]
  },
  {
   "cell_type": "code",
   "execution_count": 4,
   "metadata": {},
   "outputs": [
    {
     "data": {
      "text/html": [
       "<div>\n",
       "<style scoped>\n",
       "    .dataframe tbody tr th:only-of-type {\n",
       "        vertical-align: middle;\n",
       "    }\n",
       "\n",
       "    .dataframe tbody tr th {\n",
       "        vertical-align: top;\n",
       "    }\n",
       "\n",
       "    .dataframe thead th {\n",
       "        text-align: right;\n",
       "    }\n",
       "</style>\n",
       "<table border=\"1\" class=\"dataframe\">\n",
       "  <thead>\n",
       "    <tr style=\"text-align: right;\">\n",
       "      <th></th>\n",
       "      <th>Unnamed: 0</th>\n",
       "      <th>Year</th>\n",
       "      <th>Month</th>\n",
       "      <th>DayofMonth</th>\n",
       "      <th>DayOfWeek</th>\n",
       "      <th>DepTime</th>\n",
       "      <th>CRSDepTime</th>\n",
       "      <th>ArrTime</th>\n",
       "      <th>CRSArrTime</th>\n",
       "      <th>UniqueCarrier</th>\n",
       "      <th>FlightNum</th>\n",
       "      <th>TailNum</th>\n",
       "      <th>ActualElapsedTime</th>\n",
       "      <th>CRSElapsedTime</th>\n",
       "      <th>AirTime</th>\n",
       "      <th>ArrDelay</th>\n",
       "      <th>DepDelay</th>\n",
       "      <th>Origin</th>\n",
       "      <th>Dest</th>\n",
       "      <th>Distance</th>\n",
       "      <th>TaxiIn</th>\n",
       "      <th>TaxiOut</th>\n",
       "      <th>Cancelled</th>\n",
       "      <th>CancellationCode</th>\n",
       "      <th>Diverted</th>\n",
       "      <th>CarrierDelay</th>\n",
       "      <th>WeatherDelay</th>\n",
       "      <th>NASDelay</th>\n",
       "      <th>SecurityDelay</th>\n",
       "      <th>LateAircraftDelay</th>\n",
       "    </tr>\n",
       "  </thead>\n",
       "  <tbody>\n",
       "    <tr>\n",
       "      <th>0</th>\n",
       "      <td>0</td>\n",
       "      <td>2008</td>\n",
       "      <td>1</td>\n",
       "      <td>3</td>\n",
       "      <td>4</td>\n",
       "      <td>2003.0</td>\n",
       "      <td>1955</td>\n",
       "      <td>2211.0</td>\n",
       "      <td>2225</td>\n",
       "      <td>WN</td>\n",
       "      <td>335</td>\n",
       "      <td>N712SW</td>\n",
       "      <td>128.0</td>\n",
       "      <td>150.0</td>\n",
       "      <td>116.0</td>\n",
       "      <td>-14.0</td>\n",
       "      <td>8.0</td>\n",
       "      <td>IAD</td>\n",
       "      <td>TPA</td>\n",
       "      <td>810</td>\n",
       "      <td>4.0</td>\n",
       "      <td>8.0</td>\n",
       "      <td>0</td>\n",
       "      <td>N</td>\n",
       "      <td>0</td>\n",
       "      <td>NaN</td>\n",
       "      <td>NaN</td>\n",
       "      <td>NaN</td>\n",
       "      <td>NaN</td>\n",
       "      <td>NaN</td>\n",
       "    </tr>\n",
       "    <tr>\n",
       "      <th>1</th>\n",
       "      <td>1</td>\n",
       "      <td>2008</td>\n",
       "      <td>1</td>\n",
       "      <td>3</td>\n",
       "      <td>4</td>\n",
       "      <td>754.0</td>\n",
       "      <td>735</td>\n",
       "      <td>1002.0</td>\n",
       "      <td>1000</td>\n",
       "      <td>WN</td>\n",
       "      <td>3231</td>\n",
       "      <td>N772SW</td>\n",
       "      <td>128.0</td>\n",
       "      <td>145.0</td>\n",
       "      <td>113.0</td>\n",
       "      <td>2.0</td>\n",
       "      <td>19.0</td>\n",
       "      <td>IAD</td>\n",
       "      <td>TPA</td>\n",
       "      <td>810</td>\n",
       "      <td>5.0</td>\n",
       "      <td>10.0</td>\n",
       "      <td>0</td>\n",
       "      <td>N</td>\n",
       "      <td>0</td>\n",
       "      <td>NaN</td>\n",
       "      <td>NaN</td>\n",
       "      <td>NaN</td>\n",
       "      <td>NaN</td>\n",
       "      <td>NaN</td>\n",
       "    </tr>\n",
       "    <tr>\n",
       "      <th>2</th>\n",
       "      <td>2</td>\n",
       "      <td>2008</td>\n",
       "      <td>1</td>\n",
       "      <td>3</td>\n",
       "      <td>4</td>\n",
       "      <td>628.0</td>\n",
       "      <td>620</td>\n",
       "      <td>804.0</td>\n",
       "      <td>750</td>\n",
       "      <td>WN</td>\n",
       "      <td>448</td>\n",
       "      <td>N428WN</td>\n",
       "      <td>96.0</td>\n",
       "      <td>90.0</td>\n",
       "      <td>76.0</td>\n",
       "      <td>14.0</td>\n",
       "      <td>8.0</td>\n",
       "      <td>IND</td>\n",
       "      <td>BWI</td>\n",
       "      <td>515</td>\n",
       "      <td>3.0</td>\n",
       "      <td>17.0</td>\n",
       "      <td>0</td>\n",
       "      <td>N</td>\n",
       "      <td>0</td>\n",
       "      <td>NaN</td>\n",
       "      <td>NaN</td>\n",
       "      <td>NaN</td>\n",
       "      <td>NaN</td>\n",
       "      <td>NaN</td>\n",
       "    </tr>\n",
       "    <tr>\n",
       "      <th>3</th>\n",
       "      <td>4</td>\n",
       "      <td>2008</td>\n",
       "      <td>1</td>\n",
       "      <td>3</td>\n",
       "      <td>4</td>\n",
       "      <td>1829.0</td>\n",
       "      <td>1755</td>\n",
       "      <td>1959.0</td>\n",
       "      <td>1925</td>\n",
       "      <td>WN</td>\n",
       "      <td>3920</td>\n",
       "      <td>N464WN</td>\n",
       "      <td>90.0</td>\n",
       "      <td>90.0</td>\n",
       "      <td>77.0</td>\n",
       "      <td>34.0</td>\n",
       "      <td>34.0</td>\n",
       "      <td>IND</td>\n",
       "      <td>BWI</td>\n",
       "      <td>515</td>\n",
       "      <td>3.0</td>\n",
       "      <td>10.0</td>\n",
       "      <td>0</td>\n",
       "      <td>N</td>\n",
       "      <td>0</td>\n",
       "      <td>2.0</td>\n",
       "      <td>0.0</td>\n",
       "      <td>0.0</td>\n",
       "      <td>0.0</td>\n",
       "      <td>32.0</td>\n",
       "    </tr>\n",
       "    <tr>\n",
       "      <th>4</th>\n",
       "      <td>5</td>\n",
       "      <td>2008</td>\n",
       "      <td>1</td>\n",
       "      <td>3</td>\n",
       "      <td>4</td>\n",
       "      <td>1940.0</td>\n",
       "      <td>1915</td>\n",
       "      <td>2121.0</td>\n",
       "      <td>2110</td>\n",
       "      <td>WN</td>\n",
       "      <td>378</td>\n",
       "      <td>N726SW</td>\n",
       "      <td>101.0</td>\n",
       "      <td>115.0</td>\n",
       "      <td>87.0</td>\n",
       "      <td>11.0</td>\n",
       "      <td>25.0</td>\n",
       "      <td>IND</td>\n",
       "      <td>JAX</td>\n",
       "      <td>688</td>\n",
       "      <td>4.0</td>\n",
       "      <td>10.0</td>\n",
       "      <td>0</td>\n",
       "      <td>N</td>\n",
       "      <td>0</td>\n",
       "      <td>NaN</td>\n",
       "      <td>NaN</td>\n",
       "      <td>NaN</td>\n",
       "      <td>NaN</td>\n",
       "      <td>NaN</td>\n",
       "    </tr>\n",
       "    <tr>\n",
       "      <th>...</th>\n",
       "      <td>...</td>\n",
       "      <td>...</td>\n",
       "      <td>...</td>\n",
       "      <td>...</td>\n",
       "      <td>...</td>\n",
       "      <td>...</td>\n",
       "      <td>...</td>\n",
       "      <td>...</td>\n",
       "      <td>...</td>\n",
       "      <td>...</td>\n",
       "      <td>...</td>\n",
       "      <td>...</td>\n",
       "      <td>...</td>\n",
       "      <td>...</td>\n",
       "      <td>...</td>\n",
       "      <td>...</td>\n",
       "      <td>...</td>\n",
       "      <td>...</td>\n",
       "      <td>...</td>\n",
       "      <td>...</td>\n",
       "      <td>...</td>\n",
       "      <td>...</td>\n",
       "      <td>...</td>\n",
       "      <td>...</td>\n",
       "      <td>...</td>\n",
       "      <td>...</td>\n",
       "      <td>...</td>\n",
       "      <td>...</td>\n",
       "      <td>...</td>\n",
       "      <td>...</td>\n",
       "    </tr>\n",
       "    <tr>\n",
       "      <th>1936753</th>\n",
       "      <td>7009710</td>\n",
       "      <td>2008</td>\n",
       "      <td>12</td>\n",
       "      <td>13</td>\n",
       "      <td>6</td>\n",
       "      <td>1250.0</td>\n",
       "      <td>1220</td>\n",
       "      <td>1617.0</td>\n",
       "      <td>1552</td>\n",
       "      <td>DL</td>\n",
       "      <td>1621</td>\n",
       "      <td>N938DL</td>\n",
       "      <td>147.0</td>\n",
       "      <td>152.0</td>\n",
       "      <td>120.0</td>\n",
       "      <td>25.0</td>\n",
       "      <td>30.0</td>\n",
       "      <td>MSP</td>\n",
       "      <td>ATL</td>\n",
       "      <td>906</td>\n",
       "      <td>9.0</td>\n",
       "      <td>18.0</td>\n",
       "      <td>0</td>\n",
       "      <td>N</td>\n",
       "      <td>0</td>\n",
       "      <td>3.0</td>\n",
       "      <td>0.0</td>\n",
       "      <td>0.0</td>\n",
       "      <td>0.0</td>\n",
       "      <td>22.0</td>\n",
       "    </tr>\n",
       "    <tr>\n",
       "      <th>1936754</th>\n",
       "      <td>7009717</td>\n",
       "      <td>2008</td>\n",
       "      <td>12</td>\n",
       "      <td>13</td>\n",
       "      <td>6</td>\n",
       "      <td>657.0</td>\n",
       "      <td>600</td>\n",
       "      <td>904.0</td>\n",
       "      <td>749</td>\n",
       "      <td>DL</td>\n",
       "      <td>1631</td>\n",
       "      <td>N3743H</td>\n",
       "      <td>127.0</td>\n",
       "      <td>109.0</td>\n",
       "      <td>78.0</td>\n",
       "      <td>75.0</td>\n",
       "      <td>57.0</td>\n",
       "      <td>RIC</td>\n",
       "      <td>ATL</td>\n",
       "      <td>481</td>\n",
       "      <td>15.0</td>\n",
       "      <td>34.0</td>\n",
       "      <td>0</td>\n",
       "      <td>N</td>\n",
       "      <td>0</td>\n",
       "      <td>0.0</td>\n",
       "      <td>57.0</td>\n",
       "      <td>18.0</td>\n",
       "      <td>0.0</td>\n",
       "      <td>0.0</td>\n",
       "    </tr>\n",
       "    <tr>\n",
       "      <th>1936755</th>\n",
       "      <td>7009718</td>\n",
       "      <td>2008</td>\n",
       "      <td>12</td>\n",
       "      <td>13</td>\n",
       "      <td>6</td>\n",
       "      <td>1007.0</td>\n",
       "      <td>847</td>\n",
       "      <td>1149.0</td>\n",
       "      <td>1010</td>\n",
       "      <td>DL</td>\n",
       "      <td>1631</td>\n",
       "      <td>N909DA</td>\n",
       "      <td>162.0</td>\n",
       "      <td>143.0</td>\n",
       "      <td>122.0</td>\n",
       "      <td>99.0</td>\n",
       "      <td>80.0</td>\n",
       "      <td>ATL</td>\n",
       "      <td>IAH</td>\n",
       "      <td>689</td>\n",
       "      <td>8.0</td>\n",
       "      <td>32.0</td>\n",
       "      <td>0</td>\n",
       "      <td>N</td>\n",
       "      <td>0</td>\n",
       "      <td>1.0</td>\n",
       "      <td>0.0</td>\n",
       "      <td>19.0</td>\n",
       "      <td>0.0</td>\n",
       "      <td>79.0</td>\n",
       "    </tr>\n",
       "    <tr>\n",
       "      <th>1936756</th>\n",
       "      <td>7009726</td>\n",
       "      <td>2008</td>\n",
       "      <td>12</td>\n",
       "      <td>13</td>\n",
       "      <td>6</td>\n",
       "      <td>1251.0</td>\n",
       "      <td>1240</td>\n",
       "      <td>1446.0</td>\n",
       "      <td>1437</td>\n",
       "      <td>DL</td>\n",
       "      <td>1639</td>\n",
       "      <td>N646DL</td>\n",
       "      <td>115.0</td>\n",
       "      <td>117.0</td>\n",
       "      <td>89.0</td>\n",
       "      <td>9.0</td>\n",
       "      <td>11.0</td>\n",
       "      <td>IAD</td>\n",
       "      <td>ATL</td>\n",
       "      <td>533</td>\n",
       "      <td>13.0</td>\n",
       "      <td>13.0</td>\n",
       "      <td>0</td>\n",
       "      <td>N</td>\n",
       "      <td>0</td>\n",
       "      <td>NaN</td>\n",
       "      <td>NaN</td>\n",
       "      <td>NaN</td>\n",
       "      <td>NaN</td>\n",
       "      <td>NaN</td>\n",
       "    </tr>\n",
       "    <tr>\n",
       "      <th>1936757</th>\n",
       "      <td>7009727</td>\n",
       "      <td>2008</td>\n",
       "      <td>12</td>\n",
       "      <td>13</td>\n",
       "      <td>6</td>\n",
       "      <td>1110.0</td>\n",
       "      <td>1103</td>\n",
       "      <td>1413.0</td>\n",
       "      <td>1418</td>\n",
       "      <td>DL</td>\n",
       "      <td>1641</td>\n",
       "      <td>N908DL</td>\n",
       "      <td>123.0</td>\n",
       "      <td>135.0</td>\n",
       "      <td>104.0</td>\n",
       "      <td>-5.0</td>\n",
       "      <td>7.0</td>\n",
       "      <td>SAT</td>\n",
       "      <td>ATL</td>\n",
       "      <td>874</td>\n",
       "      <td>8.0</td>\n",
       "      <td>11.0</td>\n",
       "      <td>0</td>\n",
       "      <td>N</td>\n",
       "      <td>0</td>\n",
       "      <td>NaN</td>\n",
       "      <td>NaN</td>\n",
       "      <td>NaN</td>\n",
       "      <td>NaN</td>\n",
       "      <td>NaN</td>\n",
       "    </tr>\n",
       "  </tbody>\n",
       "</table>\n",
       "<p>1936758 rows × 30 columns</p>\n",
       "</div>"
      ],
      "text/plain": [
       "         Unnamed: 0  Year  Month  DayofMonth  DayOfWeek  DepTime  CRSDepTime  \\\n",
       "0                 0  2008      1           3          4   2003.0        1955   \n",
       "1                 1  2008      1           3          4    754.0         735   \n",
       "2                 2  2008      1           3          4    628.0         620   \n",
       "3                 4  2008      1           3          4   1829.0        1755   \n",
       "4                 5  2008      1           3          4   1940.0        1915   \n",
       "...             ...   ...    ...         ...        ...      ...         ...   \n",
       "1936753     7009710  2008     12          13          6   1250.0        1220   \n",
       "1936754     7009717  2008     12          13          6    657.0         600   \n",
       "1936755     7009718  2008     12          13          6   1007.0         847   \n",
       "1936756     7009726  2008     12          13          6   1251.0        1240   \n",
       "1936757     7009727  2008     12          13          6   1110.0        1103   \n",
       "\n",
       "         ArrTime  CRSArrTime UniqueCarrier  FlightNum TailNum  \\\n",
       "0         2211.0        2225            WN        335  N712SW   \n",
       "1         1002.0        1000            WN       3231  N772SW   \n",
       "2          804.0         750            WN        448  N428WN   \n",
       "3         1959.0        1925            WN       3920  N464WN   \n",
       "4         2121.0        2110            WN        378  N726SW   \n",
       "...          ...         ...           ...        ...     ...   \n",
       "1936753   1617.0        1552            DL       1621  N938DL   \n",
       "1936754    904.0         749            DL       1631  N3743H   \n",
       "1936755   1149.0        1010            DL       1631  N909DA   \n",
       "1936756   1446.0        1437            DL       1639  N646DL   \n",
       "1936757   1413.0        1418            DL       1641  N908DL   \n",
       "\n",
       "         ActualElapsedTime  CRSElapsedTime  AirTime  ArrDelay  DepDelay  \\\n",
       "0                    128.0           150.0    116.0     -14.0       8.0   \n",
       "1                    128.0           145.0    113.0       2.0      19.0   \n",
       "2                     96.0            90.0     76.0      14.0       8.0   \n",
       "3                     90.0            90.0     77.0      34.0      34.0   \n",
       "4                    101.0           115.0     87.0      11.0      25.0   \n",
       "...                    ...             ...      ...       ...       ...   \n",
       "1936753              147.0           152.0    120.0      25.0      30.0   \n",
       "1936754              127.0           109.0     78.0      75.0      57.0   \n",
       "1936755              162.0           143.0    122.0      99.0      80.0   \n",
       "1936756              115.0           117.0     89.0       9.0      11.0   \n",
       "1936757              123.0           135.0    104.0      -5.0       7.0   \n",
       "\n",
       "        Origin Dest  Distance  TaxiIn  TaxiOut  Cancelled CancellationCode  \\\n",
       "0          IAD  TPA       810     4.0      8.0          0                N   \n",
       "1          IAD  TPA       810     5.0     10.0          0                N   \n",
       "2          IND  BWI       515     3.0     17.0          0                N   \n",
       "3          IND  BWI       515     3.0     10.0          0                N   \n",
       "4          IND  JAX       688     4.0     10.0          0                N   \n",
       "...        ...  ...       ...     ...      ...        ...              ...   \n",
       "1936753    MSP  ATL       906     9.0     18.0          0                N   \n",
       "1936754    RIC  ATL       481    15.0     34.0          0                N   \n",
       "1936755    ATL  IAH       689     8.0     32.0          0                N   \n",
       "1936756    IAD  ATL       533    13.0     13.0          0                N   \n",
       "1936757    SAT  ATL       874     8.0     11.0          0                N   \n",
       "\n",
       "         Diverted  CarrierDelay  WeatherDelay  NASDelay  SecurityDelay  \\\n",
       "0               0           NaN           NaN       NaN            NaN   \n",
       "1               0           NaN           NaN       NaN            NaN   \n",
       "2               0           NaN           NaN       NaN            NaN   \n",
       "3               0           2.0           0.0       0.0            0.0   \n",
       "4               0           NaN           NaN       NaN            NaN   \n",
       "...           ...           ...           ...       ...            ...   \n",
       "1936753         0           3.0           0.0       0.0            0.0   \n",
       "1936754         0           0.0          57.0      18.0            0.0   \n",
       "1936755         0           1.0           0.0      19.0            0.0   \n",
       "1936756         0           NaN           NaN       NaN            NaN   \n",
       "1936757         0           NaN           NaN       NaN            NaN   \n",
       "\n",
       "         LateAircraftDelay  \n",
       "0                      NaN  \n",
       "1                      NaN  \n",
       "2                      NaN  \n",
       "3                     32.0  \n",
       "4                      NaN  \n",
       "...                    ...  \n",
       "1936753               22.0  \n",
       "1936754                0.0  \n",
       "1936755               79.0  \n",
       "1936756                NaN  \n",
       "1936757                NaN  \n",
       "\n",
       "[1936758 rows x 30 columns]"
      ]
     },
     "execution_count": 4,
     "metadata": {},
     "output_type": "execute_result"
    }
   ],
   "source": [
    "pd.set_option('display.max_columns', 30)\n",
    "df"
   ]
  },
  {
   "cell_type": "markdown",
   "metadata": {},
   "source": [
    "O que representa cada coluna:\n",
    "\n",
    "**Year:** O ano da data do voo.\n",
    "\n",
    "**Month:** O mês da data do voo.\n",
    "\n",
    "**DayofMonth:** O dia do mês da data do voo.\n",
    "\n",
    "**DayOfWeek:** O dia da semana da data do voo (1 para segunda-feira, 2 para terça-feira, e assim por diante).\n",
    "\n",
    "**DepTime:** A hora de partida real do voo (formato HHMM).\n",
    "\n",
    "**CRSDepTime:** A hora de partida programada do voo (formato HHMM).\n",
    "\n",
    "**ArrTime:** A hora de chegada real do voo (formato HHMM).\n",
    "\n",
    "**CRSArrTime:** A hora de chegada programada do voo (formato HHMM).\n",
    "\n",
    "**UniqueCarrier:** O código do transportador aéreo.\n",
    "\n",
    "**FlightNum:** O número do voo.\n",
    "\n",
    "**TailNum:** O número de cauda da aeronave.\n",
    "\n",
    "**ActualElapsedTime:** O tempo real de voo em minutos.\n",
    "\n",
    "**CRSElapsedTime:** O tempo de voo programado em minutos.\n",
    "\n",
    "**AirTime:** O tempo real no ar em minutos.\n",
    "\n",
    "**ArrDelay:** O atraso na chegada em minutos.\n",
    "\n",
    "**DepDelay:** O atraso na partida em minutos.\n",
    "\n",
    "**Origin:** O aeroporto de origem do voo.\n",
    "\n",
    "**Dest:** O aeroporto de destino do voo.\n",
    "\n",
    "**Distance:** A distância percorrida em milhas.\n",
    "\n",
    "**TaxiIn:** O tempo desde que a aeronave começa a se mover na pista até o momento em que efetivamente decola. Antes da decolagem\n",
    "\n",
    "**TaxiOut:** O tempo desde que a aeronave toca o solo até chegar ao portão de desembarque no pouso.\n",
    "\n",
    "**Cancelled:** Indica se o voo foi cancelado (1 para sim, 0 para não).\n",
    "\n",
    "**CancellationCode:** O código de cancelamento, se o voo foi cancelado. Sendo A = transportadora, B = clima, C = NAS(National Airspace System), D = segurança\n",
    "\n",
    "**Diverted:** Indica se o voo foi desviado (1 para sim, 0 para não).\n",
    "\n",
    "**CarrierDelay:** O tempo de atraso atribuído à companhia aérea em minutos.\n",
    "\n",
    "**WeatherDelay:** O tempo de atraso atribuído ao clima em minutos.\n",
    "\n",
    "**NASDelay:** O tempo de atraso atribuído ao Sistema Nacional de Aviação em minutos.\n",
    "\n",
    "**SecurityDelay:** O tempo de atraso atribuído à segurança em minutos.\n",
    "\n",
    "**LateAircraftDelay:** O tempo de atraso atribuído à aeronave em minutos.\n"
   ]
  },
  {
   "cell_type": "code",
   "execution_count": 5,
   "metadata": {},
   "outputs": [
    {
     "data": {
      "text/plain": [
       "array([2008], dtype=int64)"
      ]
     },
     "execution_count": 5,
     "metadata": {},
     "output_type": "execute_result"
    }
   ],
   "source": [
    "df['Year'].unique() # só ha valores de 2008"
   ]
  },
  {
   "cell_type": "code",
   "execution_count": 6,
   "metadata": {},
   "outputs": [],
   "source": [
    "# Excluindo a primeira coluna\n",
    "df = df.drop(df.columns[:1], axis=1)"
   ]
  },
  {
   "cell_type": "code",
   "execution_count": 7,
   "metadata": {},
   "outputs": [],
   "source": [
    "# Excluindo colunas que não serão utilizadas na análise\n",
    "df.drop(['Year','TaxiIn', 'TaxiOut', 'TailNum', 'FlightNum', 'UniqueCarrier',\n",
    "        'DepTime', 'CRSDepTime','ArrTime','CRSArrTime'], # horários\n",
    "                       axis=1, inplace=True)"
   ]
  },
  {
   "cell_type": "code",
   "execution_count": 8,
   "metadata": {},
   "outputs": [
    {
     "data": {
      "text/plain": [
       "(1936758, 19)"
      ]
     },
     "execution_count": 8,
     "metadata": {},
     "output_type": "execute_result"
    }
   ],
   "source": [
    "df.shape"
   ]
  },
  {
   "cell_type": "code",
   "execution_count": 9,
   "metadata": {},
   "outputs": [
    {
     "data": {
      "text/plain": [
       "Month                  12\n",
       "DayofMonth             31\n",
       "DayOfWeek               7\n",
       "ActualElapsedTime     673\n",
       "CRSElapsedTime        515\n",
       "AirTime               650\n",
       "ArrDelay             1128\n",
       "DepDelay             1058\n",
       "Origin                303\n",
       "Dest                  304\n",
       "Distance             1419\n",
       "Cancelled               2\n",
       "CancellationCode        4\n",
       "Diverted                2\n",
       "CarrierDelay          983\n",
       "WeatherDelay          599\n",
       "NASDelay              574\n",
       "SecurityDelay         156\n",
       "LateAircraftDelay     564\n",
       "dtype: int64"
      ]
     },
     "execution_count": 9,
     "metadata": {},
     "output_type": "execute_result"
    }
   ],
   "source": [
    "df.nunique()"
   ]
  },
  {
   "cell_type": "code",
   "execution_count": 10,
   "metadata": {},
   "outputs": [
    {
     "name": "stdout",
     "output_type": "stream",
     "text": [
      "Verificando se há valores de tempo negativos\n",
      "ActualElapsedTime 0\n",
      "CRSElapsedTime 6\n",
      "AirTime 0\n"
     ]
    }
   ],
   "source": [
    "print('Verificando se há valores de tempo negativos')\n",
    "print('ActualElapsedTime',len(df[df['ActualElapsedTime']<0]['ActualElapsedTime']))\n",
    "print('CRSElapsedTime',len(df[df['CRSElapsedTime']<0]['CRSElapsedTime']))\n",
    "print('AirTime',len(df[df['AirTime']<0]['AirTime']))"
   ]
  },
  {
   "cell_type": "code",
   "execution_count": 11,
   "metadata": {},
   "outputs": [
    {
     "name": "stdout",
     "output_type": "stream",
     "text": [
      "Verificando se há valores de tempo zerados ou negativos\n",
      "ActualElapsedTime 0\n",
      "CRSElapsedTime 6\n",
      "AirTime 7\n"
     ]
    }
   ],
   "source": [
    "print('Verificando se há valores de tempo zerados ou negativos')\n",
    "print('ActualElapsedTime',len(df[df['ActualElapsedTime']<=0]['ActualElapsedTime']))\n",
    "print('CRSElapsedTime',len(df[df['CRSElapsedTime']<=0]['CRSElapsedTime']))\n",
    "print('AirTime',len(df[df['AirTime']<=0]['AirTime']))"
   ]
  },
  {
   "cell_type": "markdown",
   "metadata": {},
   "source": [
    "- 'CRSElapsedTime' registra o tempo de voo programado em minutos, valores negativos são valores incosistentes, logo, precisam ser retirados."
   ]
  },
  {
   "cell_type": "code",
   "execution_count": 12,
   "metadata": {},
   "outputs": [],
   "source": [
    "df = df[df['CRSElapsedTime']>=0]"
   ]
  },
  {
   "cell_type": "markdown",
   "metadata": {},
   "source": [
    "Valores Zerados ou são de voos cancelados, Desviados ou são registros errados"
   ]
  },
  {
   "cell_type": "code",
   "execution_count": 13,
   "metadata": {},
   "outputs": [],
   "source": [
    "# Filtrando voos não cancelados\n",
    "df = df[df['Cancelled']==0]\n",
    "# como já foi retirado os cancelados, não precisa manter a coluna de cancelados e seus motivos\n",
    "df.drop(['Cancelled','CancellationCode'],axis=1, inplace=True)\n",
    "# filtrando os voos não desviados\n",
    "df = df[df['Diverted']==0]\n",
    "df.drop(['Diverted'],axis=1, inplace=True)\n"
   ]
  },
  {
   "cell_type": "code",
   "execution_count": 14,
   "metadata": {},
   "outputs": [
    {
     "data": {
      "text/plain": [
       "Index(['Month', 'DayofMonth', 'DayOfWeek', 'ActualElapsedTime',\n",
       "       'CRSElapsedTime', 'AirTime', 'ArrDelay', 'DepDelay', 'Origin', 'Dest',\n",
       "       'Distance', 'CarrierDelay', 'WeatherDelay', 'NASDelay', 'SecurityDelay',\n",
       "       'LateAircraftDelay'],\n",
       "      dtype='object')"
      ]
     },
     "execution_count": 14,
     "metadata": {},
     "output_type": "execute_result"
    }
   ],
   "source": [
    "df.columns"
   ]
  },
  {
   "cell_type": "code",
   "execution_count": 15,
   "metadata": {},
   "outputs": [
    {
     "name": "stdout",
     "output_type": "stream",
     "text": [
      "Verificando se há valores de tempo zerados ou negativos\n",
      "ActualElapsedTime 0\n",
      "CRSElapsedTime 0\n",
      "AirTime 7\n"
     ]
    }
   ],
   "source": [
    "print('Verificando se há valores de tempo zerados ou negativos')\n",
    "print('ActualElapsedTime',len(df[df['ActualElapsedTime']<=0]['ActualElapsedTime']))\n",
    "print('CRSElapsedTime',len(df[df['CRSElapsedTime']<=0]['CRSElapsedTime']))\n",
    "print('AirTime',len(df[df['AirTime']<=0]['AirTime']))"
   ]
  },
  {
   "cell_type": "markdown",
   "metadata": {},
   "source": [
    "como o AirTime ainda apareceu valores inconsistentes, foram retirados do df"
   ]
  },
  {
   "cell_type": "code",
   "execution_count": 16,
   "metadata": {},
   "outputs": [],
   "source": [
    "df= df[df['AirTime']>0]"
   ]
  },
  {
   "cell_type": "code",
   "execution_count": 17,
   "metadata": {},
   "outputs": [
    {
     "name": "stdout",
     "output_type": "stream",
     "text": [
      "Verificando se há valores de tempo zerados\n",
      "ActualElapsedTime 0\n",
      "CRSElapsedTime 0\n",
      "AirTime 0\n"
     ]
    }
   ],
   "source": [
    "# verificando se foram retirados todos os dados zerados nas colunas especificadas\n",
    "print('Verificando se há valores de tempo zerados')\n",
    "print('ActualElapsedTime',len(df[df['ActualElapsedTime']<=0]['ActualElapsedTime']))\n",
    "print('CRSElapsedTime',len(df[df['CRSElapsedTime']<=0]['CRSElapsedTime']))\n",
    "print('AirTime',len(df[df['AirTime']<=0]['AirTime']))"
   ]
  },
  {
   "cell_type": "code",
   "execution_count": 18,
   "metadata": {},
   "outputs": [
    {
     "data": {
      "text/plain": [
       "Month                  12\n",
       "DayofMonth             31\n",
       "DayOfWeek               7\n",
       "ActualElapsedTime     673\n",
       "CRSElapsedTime        499\n",
       "AirTime               649\n",
       "ArrDelay             1128\n",
       "DepDelay             1053\n",
       "Origin                303\n",
       "Dest                  302\n",
       "Distance             1407\n",
       "CarrierDelay          983\n",
       "WeatherDelay          599\n",
       "NASDelay              574\n",
       "SecurityDelay         156\n",
       "LateAircraftDelay     564\n",
       "dtype: int64"
      ]
     },
     "execution_count": 18,
     "metadata": {},
     "output_type": "execute_result"
    }
   ],
   "source": [
    "df.nunique()"
   ]
  },
  {
   "cell_type": "code",
   "execution_count": 19,
   "metadata": {},
   "outputs": [
    {
     "name": "stdout",
     "output_type": "stream",
     "text": [
      "<class 'pandas.core.frame.DataFrame'>\n",
      "Index: 1928363 entries, 0 to 1936757\n",
      "Data columns (total 16 columns):\n",
      " #   Column             Dtype  \n",
      "---  ------             -----  \n",
      " 0   Month              int64  \n",
      " 1   DayofMonth         int64  \n",
      " 2   DayOfWeek          int64  \n",
      " 3   ActualElapsedTime  float64\n",
      " 4   CRSElapsedTime     float64\n",
      " 5   AirTime            float64\n",
      " 6   ArrDelay           float64\n",
      " 7   DepDelay           float64\n",
      " 8   Origin             object \n",
      " 9   Dest               object \n",
      " 10  Distance           int64  \n",
      " 11  CarrierDelay       float64\n",
      " 12  WeatherDelay       float64\n",
      " 13  NASDelay           float64\n",
      " 14  SecurityDelay      float64\n",
      " 15  LateAircraftDelay  float64\n",
      "dtypes: float64(10), int64(4), object(2)\n",
      "memory usage: 250.1+ MB\n",
      "None\n"
     ]
    }
   ],
   "source": [
    "print(df.info())"
   ]
  },
  {
   "cell_type": "markdown",
   "metadata": {},
   "source": [
    "Verificar a quantidade de linhas com valores nulos"
   ]
  },
  {
   "cell_type": "code",
   "execution_count": 20,
   "metadata": {},
   "outputs": [
    {
     "data": {
      "text/plain": [
       "1928363"
      ]
     },
     "execution_count": 20,
     "metadata": {},
     "output_type": "execute_result"
    }
   ],
   "source": [
    "len(df)"
   ]
  },
  {
   "cell_type": "code",
   "execution_count": 21,
   "metadata": {},
   "outputs": [
    {
     "data": {
      "text/plain": [
       "CarrierDelay         680881\n",
       "WeatherDelay         680881\n",
       "NASDelay             680881\n",
       "SecurityDelay        680881\n",
       "LateAircraftDelay    680881\n",
       "Month                     0\n",
       "DayofMonth                0\n",
       "DayOfWeek                 0\n",
       "ActualElapsedTime         0\n",
       "CRSElapsedTime            0\n",
       "AirTime                   0\n",
       "ArrDelay                  0\n",
       "DepDelay                  0\n",
       "Origin                    0\n",
       "Dest                      0\n",
       "Distance                  0\n",
       "dtype: int64"
      ]
     },
     "execution_count": 21,
     "metadata": {},
     "output_type": "execute_result"
    }
   ],
   "source": [
    "df.isnull().sum().sort_values(ascending=False)"
   ]
  },
  {
   "cell_type": "markdown",
   "metadata": {},
   "source": [
    "Voos que não sofreram atrasos são caracterizados por valores nulos nas colunas que demonstram qualquer tipo de atraso (LateAircraftDelay, SecurityDelay, NASDelay, WeatherDelay e CarrierDelay)"
   ]
  },
  {
   "cell_type": "code",
   "execution_count": 22,
   "metadata": {},
   "outputs": [],
   "source": [
    "df = df[df.isnull().any(axis=1)]  # DataFrame com linhas contendo valores nulos"
   ]
  },
  {
   "cell_type": "code",
   "execution_count": 23,
   "metadata": {},
   "outputs": [
    {
     "data": {
      "text/plain": [
       "680881"
      ]
     },
     "execution_count": 23,
     "metadata": {},
     "output_type": "execute_result"
    }
   ],
   "source": [
    "len(df) \n",
    "# a quantidade de linhas é a quantidade de null nas \n",
    "# colunas CarrierDelay, WeatherDelay, NASDelay, SecurityDelay e LateAircraftDelay"
   ]
  },
  {
   "cell_type": "code",
   "execution_count": 24,
   "metadata": {},
   "outputs": [],
   "source": [
    "df.drop(['CarrierDelay','WeatherDelay','NASDelay','SecurityDelay','LateAircraftDelay'],axis=1, inplace=True)"
   ]
  },
  {
   "cell_type": "code",
   "execution_count": 25,
   "metadata": {},
   "outputs": [],
   "source": [
    "df = df[df['ArrDelay']<=0] # apenas os adiantado e no horário de chegada"
   ]
  },
  {
   "cell_type": "code",
   "execution_count": 26,
   "metadata": {},
   "outputs": [],
   "source": [
    "min, q25, q50,q75, max = df['CRSElapsedTime'].describe()[['min', '25%', '50%','75%', 'max']]"
   ]
  },
  {
   "cell_type": "code",
   "execution_count": 27,
   "metadata": {},
   "outputs": [],
   "source": [
    "df['Class_CRSElapsedTime'] = pd.cut(df['CRSElapsedTime'],\n",
    "                                     bins=[min, q25, q50, q75, max],\n",
    "                                     labels=['Voo Muito Curto', 'Voo Curto', 'Voo Longo', 'Voo Muito Longo'])"
   ]
  },
  {
   "cell_type": "code",
   "execution_count": 28,
   "metadata": {},
   "outputs": [],
   "source": [
    "lista_var_continuas = ['ActualElapsedTime','CRSElapsedTime', \n",
    "                       'AirTime','ArrDelay','DepDelay','Distance']\n",
    "lista_var_discretas = ['Month','DayofMonth','DayOfWeek']\n",
    "df_continua = df[lista_var_continuas]\n",
    "df_discreta = df[lista_var_discretas]"
   ]
  },
  {
   "cell_type": "code",
   "execution_count": 29,
   "metadata": {},
   "outputs": [
    {
     "data": {
      "text/html": [
       "<div>\n",
       "<style scoped>\n",
       "    .dataframe tbody tr th:only-of-type {\n",
       "        vertical-align: middle;\n",
       "    }\n",
       "\n",
       "    .dataframe tbody tr th {\n",
       "        vertical-align: top;\n",
       "    }\n",
       "\n",
       "    .dataframe thead th {\n",
       "        text-align: right;\n",
       "    }\n",
       "</style>\n",
       "<table border=\"1\" class=\"dataframe\">\n",
       "  <thead>\n",
       "    <tr style=\"text-align: right;\">\n",
       "      <th></th>\n",
       "      <th>ActualElapsedTime</th>\n",
       "      <th>CRSElapsedTime</th>\n",
       "      <th>AirTime</th>\n",
       "      <th>ArrDelay</th>\n",
       "      <th>DepDelay</th>\n",
       "      <th>Distance</th>\n",
       "    </tr>\n",
       "  </thead>\n",
       "  <tbody>\n",
       "    <tr>\n",
       "      <th>count</th>\n",
       "      <td>204955.000000</td>\n",
       "      <td>204955.000000</td>\n",
       "      <td>204955.000000</td>\n",
       "      <td>204955.000000</td>\n",
       "      <td>204955.000000</td>\n",
       "      <td>204955.000000</td>\n",
       "    </tr>\n",
       "    <tr>\n",
       "      <th>mean</th>\n",
       "      <td>146.812520</td>\n",
       "      <td>163.191857</td>\n",
       "      <td>128.102344</td>\n",
       "      <td>-5.987319</td>\n",
       "      <td>10.392018</td>\n",
       "      <td>984.479393</td>\n",
       "    </tr>\n",
       "    <tr>\n",
       "      <th>std</th>\n",
       "      <td>77.101547</td>\n",
       "      <td>80.066532</td>\n",
       "      <td>75.041418</td>\n",
       "      <td>6.146058</td>\n",
       "      <td>4.962002</td>\n",
       "      <td>653.108946</td>\n",
       "    </tr>\n",
       "    <tr>\n",
       "      <th>min</th>\n",
       "      <td>15.000000</td>\n",
       "      <td>25.000000</td>\n",
       "      <td>1.000000</td>\n",
       "      <td>-109.000000</td>\n",
       "      <td>6.000000</td>\n",
       "      <td>31.000000</td>\n",
       "    </tr>\n",
       "    <tr>\n",
       "      <th>25%</th>\n",
       "      <td>89.000000</td>\n",
       "      <td>103.000000</td>\n",
       "      <td>72.000000</td>\n",
       "      <td>-9.000000</td>\n",
       "      <td>7.000000</td>\n",
       "      <td>494.000000</td>\n",
       "    </tr>\n",
       "    <tr>\n",
       "      <th>50%</th>\n",
       "      <td>130.000000</td>\n",
       "      <td>146.000000</td>\n",
       "      <td>111.000000</td>\n",
       "      <td>-4.000000</td>\n",
       "      <td>9.000000</td>\n",
       "      <td>845.000000</td>\n",
       "    </tr>\n",
       "    <tr>\n",
       "      <th>75%</th>\n",
       "      <td>186.000000</td>\n",
       "      <td>205.000000</td>\n",
       "      <td>166.000000</td>\n",
       "      <td>-2.000000</td>\n",
       "      <td>12.000000</td>\n",
       "      <td>1337.000000</td>\n",
       "    </tr>\n",
       "    <tr>\n",
       "      <th>max</th>\n",
       "      <td>648.000000</td>\n",
       "      <td>660.000000</td>\n",
       "      <td>626.000000</td>\n",
       "      <td>0.000000</td>\n",
       "      <td>96.000000</td>\n",
       "      <td>4962.000000</td>\n",
       "    </tr>\n",
       "  </tbody>\n",
       "</table>\n",
       "</div>"
      ],
      "text/plain": [
       "       ActualElapsedTime  CRSElapsedTime        AirTime       ArrDelay  \\\n",
       "count      204955.000000   204955.000000  204955.000000  204955.000000   \n",
       "mean          146.812520      163.191857     128.102344      -5.987319   \n",
       "std            77.101547       80.066532      75.041418       6.146058   \n",
       "min            15.000000       25.000000       1.000000    -109.000000   \n",
       "25%            89.000000      103.000000      72.000000      -9.000000   \n",
       "50%           130.000000      146.000000     111.000000      -4.000000   \n",
       "75%           186.000000      205.000000     166.000000      -2.000000   \n",
       "max           648.000000      660.000000     626.000000       0.000000   \n",
       "\n",
       "            DepDelay       Distance  \n",
       "count  204955.000000  204955.000000  \n",
       "mean       10.392018     984.479393  \n",
       "std         4.962002     653.108946  \n",
       "min         6.000000      31.000000  \n",
       "25%         7.000000     494.000000  \n",
       "50%         9.000000     845.000000  \n",
       "75%        12.000000    1337.000000  \n",
       "max        96.000000    4962.000000  "
      ]
     },
     "execution_count": 29,
     "metadata": {},
     "output_type": "execute_result"
    }
   ],
   "source": [
    "df[lista_var_continuas].describe()"
   ]
  },
  {
   "cell_type": "markdown",
   "metadata": {},
   "source": [
    "um voo adiantado por mais 40 minutos é considerado um evento suspeito, sendo retirado do banco de dados. Principalmente pela grande amplitude entre o valor mínimo e o quantil de 25%"
   ]
  },
  {
   "cell_type": "code",
   "execution_count": 30,
   "metadata": {},
   "outputs": [],
   "source": [
    "df = df[df['ArrDelay']>=-40]"
   ]
  },
  {
   "cell_type": "code",
   "execution_count": 31,
   "metadata": {},
   "outputs": [
    {
     "data": {
      "text/html": [
       "<div>\n",
       "<style scoped>\n",
       "    .dataframe tbody tr th:only-of-type {\n",
       "        vertical-align: middle;\n",
       "    }\n",
       "\n",
       "    .dataframe tbody tr th {\n",
       "        vertical-align: top;\n",
       "    }\n",
       "\n",
       "    .dataframe thead th {\n",
       "        text-align: right;\n",
       "    }\n",
       "</style>\n",
       "<table border=\"1\" class=\"dataframe\">\n",
       "  <thead>\n",
       "    <tr style=\"text-align: right;\">\n",
       "      <th></th>\n",
       "      <th>ActualElapsedTime</th>\n",
       "      <th>CRSElapsedTime</th>\n",
       "      <th>AirTime</th>\n",
       "      <th>ArrDelay</th>\n",
       "      <th>DepDelay</th>\n",
       "      <th>Distance</th>\n",
       "    </tr>\n",
       "  </thead>\n",
       "  <tbody>\n",
       "    <tr>\n",
       "      <th>count</th>\n",
       "      <td>204711.000000</td>\n",
       "      <td>204711.000000</td>\n",
       "      <td>204711.000000</td>\n",
       "      <td>204711.000000</td>\n",
       "      <td>204711.000000</td>\n",
       "      <td>204711.000000</td>\n",
       "    </tr>\n",
       "    <tr>\n",
       "      <th>mean</th>\n",
       "      <td>146.685571</td>\n",
       "      <td>163.016829</td>\n",
       "      <td>127.979859</td>\n",
       "      <td>-5.938567</td>\n",
       "      <td>10.392690</td>\n",
       "      <td>983.402905</td>\n",
       "    </tr>\n",
       "    <tr>\n",
       "      <th>std</th>\n",
       "      <td>76.988093</td>\n",
       "      <td>79.884640</td>\n",
       "      <td>74.929653</td>\n",
       "      <td>5.980002</td>\n",
       "      <td>4.962667</td>\n",
       "      <td>652.162450</td>\n",
       "    </tr>\n",
       "    <tr>\n",
       "      <th>min</th>\n",
       "      <td>15.000000</td>\n",
       "      <td>25.000000</td>\n",
       "      <td>1.000000</td>\n",
       "      <td>-40.000000</td>\n",
       "      <td>6.000000</td>\n",
       "      <td>31.000000</td>\n",
       "    </tr>\n",
       "    <tr>\n",
       "      <th>25%</th>\n",
       "      <td>89.000000</td>\n",
       "      <td>103.000000</td>\n",
       "      <td>72.000000</td>\n",
       "      <td>-8.000000</td>\n",
       "      <td>7.000000</td>\n",
       "      <td>493.000000</td>\n",
       "    </tr>\n",
       "    <tr>\n",
       "      <th>50%</th>\n",
       "      <td>130.000000</td>\n",
       "      <td>146.000000</td>\n",
       "      <td>111.000000</td>\n",
       "      <td>-4.000000</td>\n",
       "      <td>9.000000</td>\n",
       "      <td>845.000000</td>\n",
       "    </tr>\n",
       "    <tr>\n",
       "      <th>75%</th>\n",
       "      <td>185.000000</td>\n",
       "      <td>205.000000</td>\n",
       "      <td>166.000000</td>\n",
       "      <td>-2.000000</td>\n",
       "      <td>12.000000</td>\n",
       "      <td>1335.000000</td>\n",
       "    </tr>\n",
       "    <tr>\n",
       "      <th>max</th>\n",
       "      <td>648.000000</td>\n",
       "      <td>660.000000</td>\n",
       "      <td>626.000000</td>\n",
       "      <td>0.000000</td>\n",
       "      <td>96.000000</td>\n",
       "      <td>4962.000000</td>\n",
       "    </tr>\n",
       "  </tbody>\n",
       "</table>\n",
       "</div>"
      ],
      "text/plain": [
       "       ActualElapsedTime  CRSElapsedTime        AirTime       ArrDelay  \\\n",
       "count      204711.000000   204711.000000  204711.000000  204711.000000   \n",
       "mean          146.685571      163.016829     127.979859      -5.938567   \n",
       "std            76.988093       79.884640      74.929653       5.980002   \n",
       "min            15.000000       25.000000       1.000000     -40.000000   \n",
       "25%            89.000000      103.000000      72.000000      -8.000000   \n",
       "50%           130.000000      146.000000     111.000000      -4.000000   \n",
       "75%           185.000000      205.000000     166.000000      -2.000000   \n",
       "max           648.000000      660.000000     626.000000       0.000000   \n",
       "\n",
       "            DepDelay       Distance  \n",
       "count  204711.000000  204711.000000  \n",
       "mean       10.392690     983.402905  \n",
       "std         4.962667     652.162450  \n",
       "min         6.000000      31.000000  \n",
       "25%         7.000000     493.000000  \n",
       "50%         9.000000     845.000000  \n",
       "75%        12.000000    1335.000000  \n",
       "max        96.000000    4962.000000  "
      ]
     },
     "execution_count": 31,
     "metadata": {},
     "output_type": "execute_result"
    }
   ],
   "source": [
    "# verificando novamente\n",
    "df[lista_var_continuas].describe()"
   ]
  },
  {
   "cell_type": "markdown",
   "metadata": {},
   "source": [
    "Levando em consideração que o campo AirTime indica o tempo no ar em minutos, não faz sentido que um voo dure apenas uns minutos no ar. Por isso, será retirado os primeiro 5% dos dados de AirTime"
   ]
  },
  {
   "cell_type": "code",
   "execution_count": 32,
   "metadata": {},
   "outputs": [],
   "source": [
    "# Calcular o quantil de 5%\n",
    "quantil_5 = df['AirTime'].quantile(0.05)\n",
    "\n",
    "# Aplicar o filtro\n",
    "df  = df.loc[df['AirTime'] >= quantil_5]"
   ]
  },
  {
   "cell_type": "markdown",
   "metadata": {},
   "source": [
    "Devido a grande distância entre o quartil de 75% e o valor máximo do DepDelay, foram retirados registros com valores acima de 30 minutos"
   ]
  },
  {
   "cell_type": "code",
   "execution_count": 44,
   "metadata": {},
   "outputs": [],
   "source": [
    "df  = df.loc[df['DepDelay'] <= 30]"
   ]
  },
  {
   "cell_type": "code",
   "execution_count": 45,
   "metadata": {},
   "outputs": [
    {
     "data": {
      "text/html": [
       "<div>\n",
       "<style scoped>\n",
       "    .dataframe tbody tr th:only-of-type {\n",
       "        vertical-align: middle;\n",
       "    }\n",
       "\n",
       "    .dataframe tbody tr th {\n",
       "        vertical-align: top;\n",
       "    }\n",
       "\n",
       "    .dataframe thead th {\n",
       "        text-align: right;\n",
       "    }\n",
       "</style>\n",
       "<table border=\"1\" class=\"dataframe\">\n",
       "  <thead>\n",
       "    <tr style=\"text-align: right;\">\n",
       "      <th></th>\n",
       "      <th>ActualElapsedTime</th>\n",
       "      <th>CRSElapsedTime</th>\n",
       "      <th>AirTime</th>\n",
       "      <th>ArrDelay</th>\n",
       "      <th>DepDelay</th>\n",
       "      <th>Distance</th>\n",
       "    </tr>\n",
       "  </thead>\n",
       "  <tbody>\n",
       "    <tr>\n",
       "      <th>count</th>\n",
       "      <td>193431.000000</td>\n",
       "      <td>193431.000000</td>\n",
       "      <td>193431.000000</td>\n",
       "      <td>193431.000000</td>\n",
       "      <td>193431.000000</td>\n",
       "      <td>193431.000000</td>\n",
       "    </tr>\n",
       "    <tr>\n",
       "      <th>mean</th>\n",
       "      <td>151.244785</td>\n",
       "      <td>167.587496</td>\n",
       "      <td>132.453490</td>\n",
       "      <td>-6.064431</td>\n",
       "      <td>10.278280</td>\n",
       "      <td>1020.963884</td>\n",
       "    </tr>\n",
       "    <tr>\n",
       "      <th>std</th>\n",
       "      <td>75.286832</td>\n",
       "      <td>77.964647</td>\n",
       "      <td>73.234029</td>\n",
       "      <td>6.040807</td>\n",
       "      <td>4.504179</td>\n",
       "      <td>638.693175</td>\n",
       "    </tr>\n",
       "    <tr>\n",
       "      <th>min</th>\n",
       "      <td>46.000000</td>\n",
       "      <td>53.000000</td>\n",
       "      <td>40.000000</td>\n",
       "      <td>-40.000000</td>\n",
       "      <td>6.000000</td>\n",
       "      <td>94.000000</td>\n",
       "    </tr>\n",
       "    <tr>\n",
       "      <th>25%</th>\n",
       "      <td>95.000000</td>\n",
       "      <td>110.000000</td>\n",
       "      <td>78.000000</td>\n",
       "      <td>-9.000000</td>\n",
       "      <td>7.000000</td>\n",
       "      <td>546.000000</td>\n",
       "    </tr>\n",
       "    <tr>\n",
       "      <th>50%</th>\n",
       "      <td>134.000000</td>\n",
       "      <td>150.000000</td>\n",
       "      <td>115.000000</td>\n",
       "      <td>-4.000000</td>\n",
       "      <td>9.000000</td>\n",
       "      <td>866.000000</td>\n",
       "    </tr>\n",
       "    <tr>\n",
       "      <th>75%</th>\n",
       "      <td>189.000000</td>\n",
       "      <td>208.000000</td>\n",
       "      <td>170.000000</td>\n",
       "      <td>-2.000000</td>\n",
       "      <td>12.000000</td>\n",
       "      <td>1379.000000</td>\n",
       "    </tr>\n",
       "    <tr>\n",
       "      <th>max</th>\n",
       "      <td>648.000000</td>\n",
       "      <td>660.000000</td>\n",
       "      <td>626.000000</td>\n",
       "      <td>0.000000</td>\n",
       "      <td>30.000000</td>\n",
       "      <td>4962.000000</td>\n",
       "    </tr>\n",
       "  </tbody>\n",
       "</table>\n",
       "</div>"
      ],
      "text/plain": [
       "       ActualElapsedTime  CRSElapsedTime        AirTime       ArrDelay  \\\n",
       "count      193431.000000   193431.000000  193431.000000  193431.000000   \n",
       "mean          151.244785      167.587496     132.453490      -6.064431   \n",
       "std            75.286832       77.964647      73.234029       6.040807   \n",
       "min            46.000000       53.000000      40.000000     -40.000000   \n",
       "25%            95.000000      110.000000      78.000000      -9.000000   \n",
       "50%           134.000000      150.000000     115.000000      -4.000000   \n",
       "75%           189.000000      208.000000     170.000000      -2.000000   \n",
       "max           648.000000      660.000000     626.000000       0.000000   \n",
       "\n",
       "            DepDelay       Distance  \n",
       "count  193431.000000  193431.000000  \n",
       "mean       10.278280    1020.963884  \n",
       "std         4.504179     638.693175  \n",
       "min         6.000000      94.000000  \n",
       "25%         7.000000     546.000000  \n",
       "50%         9.000000     866.000000  \n",
       "75%        12.000000    1379.000000  \n",
       "max        30.000000    4962.000000  "
      ]
     },
     "execution_count": 45,
     "metadata": {},
     "output_type": "execute_result"
    }
   ],
   "source": [
    "# verificando novamente\n",
    "df[lista_var_continuas].describe()"
   ]
  },
  {
   "cell_type": "code",
   "execution_count": 46,
   "metadata": {},
   "outputs": [
    {
     "data": {
      "image/png": "[encoded data removed]",
      "text/plain": [
       "<Figure size 2000x500 with 3 Axes>"
      ]
     },
     "metadata": {},
     "output_type": "display_data"
    }
   ],
   "source": [
    "# Criar gráficos de barra para variáveis discretas\n",
    "fig, axs =plt.subplots(1,3, figsize = (20,5))\n",
    "\n",
    "for i, ax in zip(lista_var_discretas, axs.flatten()):\n",
    "    sns.countplot(x=i, data=df_discreta[[i]], ax=ax, color='RosyBrown')\n",
    "    ax.set_title(f'Gráfico de Barra - {i}')\n",
    "    ax.set_xlabel('Valores')\n",
    "    ax.set_ylabel('Contagem')\n",
    "\n",
    "    # Ajusta a rotação dos rótulos para melhor legibilidade\n",
    "    ax.tick_params(axis='x', rotation=45)\n",
    "# Adiciona um título geral acima dos subgráficos\n",
    "fig.suptitle('Ocorrências - Voos Sem Atrasos Justificados', fontsize=16)\n",
    "# Ajusta o layout para evitar sobreposição\n",
    "plt.tight_layout(rect=[0, 0, 1, 0.96])  # Ajusta o espaço para acomodar o título geral\n",
    "\n",
    "# Exibe a figura\n",
    "plt.show()"
   ]
  },
  {
   "cell_type": "code",
   "execution_count": 47,
   "metadata": {},
   "outputs": [
    {
     "data": {
      "image/png": "[encoded data removed]",
      "text/plain": [
       "<Figure size 1500x1000 with 6 Axes>"
      ]
     },
     "metadata": {},
     "output_type": "display_data"
    }
   ],
   "source": [
    "# Criação do grid de subgráficos 4x4\n",
    "fig, axs = plt.subplots(2, 3, figsize=(15, 10))\n",
    "\n",
    "\n",
    "for i, ax in zip(lista_var_continuas, axs.flatten()):\n",
    "    df_continua[i].hist(bins=20, edgecolor='black', color ='NavajoWhite',ax=ax, zorder=4)\n",
    "    ax.set_title(f'{i}')\n",
    "# Adiciona um título geral acima dos subgráficos\n",
    "fig.suptitle('Histogramas', fontsize=16, zorder=1)  # Definindo zorder para o título geral\n",
    "\n",
    "# Ajusta o layout para evitar sobreposição\n",
    "plt.tight_layout(rect=[0, 0, 1, 0.96])  # Ajusta o espaço para acomodar o título geral\n",
    "\n",
    "plt.show()"
   ]
  },
  {
   "cell_type": "code",
   "execution_count": 48,
   "metadata": {},
   "outputs": [
    {
     "data": {
      "image/png": "[encoded data removed]",
      "text/plain": [
       "<Figure size 1500x1000 with 6 Axes>"
      ]
     },
     "metadata": {},
     "output_type": "display_data"
    }
   ],
   "source": [
    "df_continua = df[lista_var_continuas] # atualizando\n",
    "fig = plt.figure(figsize = (15,10))\n",
    "\n",
    "for i, col in enumerate(df_continua):\n",
    "    plt.subplot(4,4,i+1)\n",
    "    plt.boxplot(df[col])\n",
    "    plt.xlabel(col)\n",
    "    plt.grid(axis='x', linestyle='--', alpha=0.7)\n",
    "    plt.axhline(y=df[col].mean(), linestyle='--', color=\"red\")\n",
    "    \n",
    "plt.tight_layout()     \n",
    "plt.show()"
   ]
  },
  {
   "cell_type": "code",
   "execution_count": 49,
   "metadata": {},
   "outputs": [
    {
     "data": {
      "text/plain": [
       "<Figure size 1000x600 with 0 Axes>"
      ]
     },
     "metadata": {},
     "output_type": "display_data"
    },
    {
     "data": {
      "image/png": "[encoded data removed]",
      "text/plain": [
       "<Figure size 640x480 with 1 Axes>"
      ]
     },
     "metadata": {},
     "output_type": "display_data"
    }
   ],
   "source": [
    "# Contar a frequência de cada origem\n",
    "origem_counts = df['Origin'].value_counts().head(15).index\n",
    "\n",
    "# Filtrar o DataFrame para incluir apenas as 10 principais origens\n",
    "df_top_origins = df[df['Origin'].isin(origem_counts)]\n",
    "\n",
    "# Criar DataFrame pivot para contar as ocorrências de cada combinação\n",
    "df_pivot = df_top_origins.groupby(['Origin', 'Class_CRSElapsedTime']).size().unstack(fill_value=0)\n",
    "\n",
    "# Criar gráfico de barras empilhadas\n",
    "plt.figure(figsize=(10, 6))\n",
    "ax = df_pivot.plot(kind='bar', stacked=True)\n",
    "plt.title('Distribuição de Classes CRSElapsedTime por Origem (Top 15 Origens)')\n",
    "plt.xlabel('Origem')\n",
    "plt.ylabel('Contagem')\n",
    "\n",
    "ax.legend(bbox_to_anchor=(1.05, 0), loc='lower left', borderaxespad=0.)\n",
    "\n",
    "plt.show()"
   ]
  }
 ],
 "metadata": {
  "kernelspec": {
   "display_name": "Python 3",
   "language": "python",
   "name": "python3"
  },
  "language_info": {
   "codemirror_mode": {
    "name": "ipython",
    "version": 3
   },
   "file_extension": ".py",
   "mimetype": "text/x-python",
   "name": "python",
   "nbconvert_exporter": "python",
   "pygments_lexer": "ipython3",
   "version": "3.11.8"
  }
 },
 "nbformat": 4,
 "nbformat_minor": 2
}
