{
 "cells": [
  {
   "cell_type": "markdown",
   "metadata": {},
   "source": [
    "# Importando Bibliotecas"
   ]
  },
  {
   "cell_type": "code",
   "execution_count": 146,
   "metadata": {},
   "outputs": [],
   "source": [
    "# Ignorar avisos \n",
    "import warnings\n",
    "warnings.filterwarnings('ignore')"
   ]
  },
  {
   "cell_type": "code",
   "execution_count": 147,
   "metadata": {},
   "outputs": [],
   "source": [
    "import pandas as pd\n",
    "import numpy as np\n",
    "import seaborn as sns\n",
    "import matplotlib.pyplot as plt\n",
    "import geopandas as gpd"
   ]
  },
  {
   "cell_type": "markdown",
   "metadata": {},
   "source": [
    "## Carragando o Banco de Dados"
   ]
  },
  {
   "cell_type": "code",
   "execution_count": 183,
   "metadata": {},
   "outputs": [],
   "source": [
    "df = pd.read_csv('DelayedFlights.zip')"
   ]
  },
  {
   "cell_type": "markdown",
   "metadata": {},
   "source": [
    "Mostrar todas as colunas"
   ]
  },
  {
   "cell_type": "code",
   "execution_count": 184,
   "metadata": {},
   "outputs": [
    {
     "data": {
      "text/html": [
       "<div>\n",
       "<style scoped>\n",
       "    .dataframe tbody tr th:only-of-type {\n",
       "        vertical-align: middle;\n",
       "    }\n",
       "\n",
       "    .dataframe tbody tr th {\n",
       "        vertical-align: top;\n",
       "    }\n",
       "\n",
       "    .dataframe thead th {\n",
       "        text-align: right;\n",
       "    }\n",
       "</style>\n",
       "<table border=\"1\" class=\"dataframe\">\n",
       "  <thead>\n",
       "    <tr style=\"text-align: right;\">\n",
       "      <th></th>\n",
       "      <th>Unnamed: 0</th>\n",
       "      <th>Year</th>\n",
       "      <th>Month</th>\n",
       "      <th>DayofMonth</th>\n",
       "      <th>DayOfWeek</th>\n",
       "      <th>DepTime</th>\n",
       "      <th>CRSDepTime</th>\n",
       "      <th>ArrTime</th>\n",
       "      <th>CRSArrTime</th>\n",
       "      <th>UniqueCarrier</th>\n",
       "      <th>FlightNum</th>\n",
       "      <th>TailNum</th>\n",
       "      <th>ActualElapsedTime</th>\n",
       "      <th>CRSElapsedTime</th>\n",
       "      <th>AirTime</th>\n",
       "      <th>ArrDelay</th>\n",
       "      <th>DepDelay</th>\n",
       "      <th>Origin</th>\n",
       "      <th>Dest</th>\n",
       "      <th>Distance</th>\n",
       "      <th>TaxiIn</th>\n",
       "      <th>TaxiOut</th>\n",
       "      <th>Cancelled</th>\n",
       "      <th>CancellationCode</th>\n",
       "      <th>Diverted</th>\n",
       "      <th>CarrierDelay</th>\n",
       "      <th>WeatherDelay</th>\n",
       "      <th>NASDelay</th>\n",
       "      <th>SecurityDelay</th>\n",
       "      <th>LateAircraftDelay</th>\n",
       "    </tr>\n",
       "  </thead>\n",
       "  <tbody>\n",
       "    <tr>\n",
       "      <th>0</th>\n",
       "      <td>0</td>\n",
       "      <td>2008</td>\n",
       "      <td>1</td>\n",
       "      <td>3</td>\n",
       "      <td>4</td>\n",
       "      <td>2003.00</td>\n",
       "      <td>1955</td>\n",
       "      <td>2211.00</td>\n",
       "      <td>2225</td>\n",
       "      <td>WN</td>\n",
       "      <td>335</td>\n",
       "      <td>N712SW</td>\n",
       "      <td>128.00</td>\n",
       "      <td>150.00</td>\n",
       "      <td>116.00</td>\n",
       "      <td>-14.00</td>\n",
       "      <td>8.00</td>\n",
       "      <td>IAD</td>\n",
       "      <td>TPA</td>\n",
       "      <td>810</td>\n",
       "      <td>4.00</td>\n",
       "      <td>8.00</td>\n",
       "      <td>0</td>\n",
       "      <td>N</td>\n",
       "      <td>0</td>\n",
       "      <td>NaN</td>\n",
       "      <td>NaN</td>\n",
       "      <td>NaN</td>\n",
       "      <td>NaN</td>\n",
       "      <td>NaN</td>\n",
       "    </tr>\n",
       "    <tr>\n",
       "      <th>1</th>\n",
       "      <td>1</td>\n",
       "      <td>2008</td>\n",
       "      <td>1</td>\n",
       "      <td>3</td>\n",
       "      <td>4</td>\n",
       "      <td>754.00</td>\n",
       "      <td>735</td>\n",
       "      <td>1002.00</td>\n",
       "      <td>1000</td>\n",
       "      <td>WN</td>\n",
       "      <td>3231</td>\n",
       "      <td>N772SW</td>\n",
       "      <td>128.00</td>\n",
       "      <td>145.00</td>\n",
       "      <td>113.00</td>\n",
       "      <td>2.00</td>\n",
       "      <td>19.00</td>\n",
       "      <td>IAD</td>\n",
       "      <td>TPA</td>\n",
       "      <td>810</td>\n",
       "      <td>5.00</td>\n",
       "      <td>10.00</td>\n",
       "      <td>0</td>\n",
       "      <td>N</td>\n",
       "      <td>0</td>\n",
       "      <td>NaN</td>\n",
       "      <td>NaN</td>\n",
       "      <td>NaN</td>\n",
       "      <td>NaN</td>\n",
       "      <td>NaN</td>\n",
       "    </tr>\n",
       "    <tr>\n",
       "      <th>2</th>\n",
       "      <td>2</td>\n",
       "      <td>2008</td>\n",
       "      <td>1</td>\n",
       "      <td>3</td>\n",
       "      <td>4</td>\n",
       "      <td>628.00</td>\n",
       "      <td>620</td>\n",
       "      <td>804.00</td>\n",
       "      <td>750</td>\n",
       "      <td>WN</td>\n",
       "      <td>448</td>\n",
       "      <td>N428WN</td>\n",
       "      <td>96.00</td>\n",
       "      <td>90.00</td>\n",
       "      <td>76.00</td>\n",
       "      <td>14.00</td>\n",
       "      <td>8.00</td>\n",
       "      <td>IND</td>\n",
       "      <td>BWI</td>\n",
       "      <td>515</td>\n",
       "      <td>3.00</td>\n",
       "      <td>17.00</td>\n",
       "      <td>0</td>\n",
       "      <td>N</td>\n",
       "      <td>0</td>\n",
       "      <td>NaN</td>\n",
       "      <td>NaN</td>\n",
       "      <td>NaN</td>\n",
       "      <td>NaN</td>\n",
       "      <td>NaN</td>\n",
       "    </tr>\n",
       "    <tr>\n",
       "      <th>3</th>\n",
       "      <td>4</td>\n",
       "      <td>2008</td>\n",
       "      <td>1</td>\n",
       "      <td>3</td>\n",
       "      <td>4</td>\n",
       "      <td>1829.00</td>\n",
       "      <td>1755</td>\n",
       "      <td>1959.00</td>\n",
       "      <td>1925</td>\n",
       "      <td>WN</td>\n",
       "      <td>3920</td>\n",
       "      <td>N464WN</td>\n",
       "      <td>90.00</td>\n",
       "      <td>90.00</td>\n",
       "      <td>77.00</td>\n",
       "      <td>34.00</td>\n",
       "      <td>34.00</td>\n",
       "      <td>IND</td>\n",
       "      <td>BWI</td>\n",
       "      <td>515</td>\n",
       "      <td>3.00</td>\n",
       "      <td>10.00</td>\n",
       "      <td>0</td>\n",
       "      <td>N</td>\n",
       "      <td>0</td>\n",
       "      <td>2.00</td>\n",
       "      <td>0.00</td>\n",
       "      <td>0.00</td>\n",
       "      <td>0.00</td>\n",
       "      <td>32.00</td>\n",
       "    </tr>\n",
       "    <tr>\n",
       "      <th>4</th>\n",
       "      <td>5</td>\n",
       "      <td>2008</td>\n",
       "      <td>1</td>\n",
       "      <td>3</td>\n",
       "      <td>4</td>\n",
       "      <td>1940.00</td>\n",
       "      <td>1915</td>\n",
       "      <td>2121.00</td>\n",
       "      <td>2110</td>\n",
       "      <td>WN</td>\n",
       "      <td>378</td>\n",
       "      <td>N726SW</td>\n",
       "      <td>101.00</td>\n",
       "      <td>115.00</td>\n",
       "      <td>87.00</td>\n",
       "      <td>11.00</td>\n",
       "      <td>25.00</td>\n",
       "      <td>IND</td>\n",
       "      <td>JAX</td>\n",
       "      <td>688</td>\n",
       "      <td>4.00</td>\n",
       "      <td>10.00</td>\n",
       "      <td>0</td>\n",
       "      <td>N</td>\n",
       "      <td>0</td>\n",
       "      <td>NaN</td>\n",
       "      <td>NaN</td>\n",
       "      <td>NaN</td>\n",
       "      <td>NaN</td>\n",
       "      <td>NaN</td>\n",
       "    </tr>\n",
       "    <tr>\n",
       "      <th>...</th>\n",
       "      <td>...</td>\n",
       "      <td>...</td>\n",
       "      <td>...</td>\n",
       "      <td>...</td>\n",
       "      <td>...</td>\n",
       "      <td>...</td>\n",
       "      <td>...</td>\n",
       "      <td>...</td>\n",
       "      <td>...</td>\n",
       "      <td>...</td>\n",
       "      <td>...</td>\n",
       "      <td>...</td>\n",
       "      <td>...</td>\n",
       "      <td>...</td>\n",
       "      <td>...</td>\n",
       "      <td>...</td>\n",
       "      <td>...</td>\n",
       "      <td>...</td>\n",
       "      <td>...</td>\n",
       "      <td>...</td>\n",
       "      <td>...</td>\n",
       "      <td>...</td>\n",
       "      <td>...</td>\n",
       "      <td>...</td>\n",
       "      <td>...</td>\n",
       "      <td>...</td>\n",
       "      <td>...</td>\n",
       "      <td>...</td>\n",
       "      <td>...</td>\n",
       "      <td>...</td>\n",
       "    </tr>\n",
       "    <tr>\n",
       "      <th>1936753</th>\n",
       "      <td>7009710</td>\n",
       "      <td>2008</td>\n",
       "      <td>12</td>\n",
       "      <td>13</td>\n",
       "      <td>6</td>\n",
       "      <td>1250.00</td>\n",
       "      <td>1220</td>\n",
       "      <td>1617.00</td>\n",
       "      <td>1552</td>\n",
       "      <td>DL</td>\n",
       "      <td>1621</td>\n",
       "      <td>N938DL</td>\n",
       "      <td>147.00</td>\n",
       "      <td>152.00</td>\n",
       "      <td>120.00</td>\n",
       "      <td>25.00</td>\n",
       "      <td>30.00</td>\n",
       "      <td>MSP</td>\n",
       "      <td>ATL</td>\n",
       "      <td>906</td>\n",
       "      <td>9.00</td>\n",
       "      <td>18.00</td>\n",
       "      <td>0</td>\n",
       "      <td>N</td>\n",
       "      <td>0</td>\n",
       "      <td>3.00</td>\n",
       "      <td>0.00</td>\n",
       "      <td>0.00</td>\n",
       "      <td>0.00</td>\n",
       "      <td>22.00</td>\n",
       "    </tr>\n",
       "    <tr>\n",
       "      <th>1936754</th>\n",
       "      <td>7009717</td>\n",
       "      <td>2008</td>\n",
       "      <td>12</td>\n",
       "      <td>13</td>\n",
       "      <td>6</td>\n",
       "      <td>657.00</td>\n",
       "      <td>600</td>\n",
       "      <td>904.00</td>\n",
       "      <td>749</td>\n",
       "      <td>DL</td>\n",
       "      <td>1631</td>\n",
       "      <td>N3743H</td>\n",
       "      <td>127.00</td>\n",
       "      <td>109.00</td>\n",
       "      <td>78.00</td>\n",
       "      <td>75.00</td>\n",
       "      <td>57.00</td>\n",
       "      <td>RIC</td>\n",
       "      <td>ATL</td>\n",
       "      <td>481</td>\n",
       "      <td>15.00</td>\n",
       "      <td>34.00</td>\n",
       "      <td>0</td>\n",
       "      <td>N</td>\n",
       "      <td>0</td>\n",
       "      <td>0.00</td>\n",
       "      <td>57.00</td>\n",
       "      <td>18.00</td>\n",
       "      <td>0.00</td>\n",
       "      <td>0.00</td>\n",
       "    </tr>\n",
       "    <tr>\n",
       "      <th>1936755</th>\n",
       "      <td>7009718</td>\n",
       "      <td>2008</td>\n",
       "      <td>12</td>\n",
       "      <td>13</td>\n",
       "      <td>6</td>\n",
       "      <td>1007.00</td>\n",
       "      <td>847</td>\n",
       "      <td>1149.00</td>\n",
       "      <td>1010</td>\n",
       "      <td>DL</td>\n",
       "      <td>1631</td>\n",
       "      <td>N909DA</td>\n",
       "      <td>162.00</td>\n",
       "      <td>143.00</td>\n",
       "      <td>122.00</td>\n",
       "      <td>99.00</td>\n",
       "      <td>80.00</td>\n",
       "      <td>ATL</td>\n",
       "      <td>IAH</td>\n",
       "      <td>689</td>\n",
       "      <td>8.00</td>\n",
       "      <td>32.00</td>\n",
       "      <td>0</td>\n",
       "      <td>N</td>\n",
       "      <td>0</td>\n",
       "      <td>1.00</td>\n",
       "      <td>0.00</td>\n",
       "      <td>19.00</td>\n",
       "      <td>0.00</td>\n",
       "      <td>79.00</td>\n",
       "    </tr>\n",
       "    <tr>\n",
       "      <th>1936756</th>\n",
       "      <td>7009726</td>\n",
       "      <td>2008</td>\n",
       "      <td>12</td>\n",
       "      <td>13</td>\n",
       "      <td>6</td>\n",
       "      <td>1251.00</td>\n",
       "      <td>1240</td>\n",
       "      <td>1446.00</td>\n",
       "      <td>1437</td>\n",
       "      <td>DL</td>\n",
       "      <td>1639</td>\n",
       "      <td>N646DL</td>\n",
       "      <td>115.00</td>\n",
       "      <td>117.00</td>\n",
       "      <td>89.00</td>\n",
       "      <td>9.00</td>\n",
       "      <td>11.00</td>\n",
       "      <td>IAD</td>\n",
       "      <td>ATL</td>\n",
       "      <td>533</td>\n",
       "      <td>13.00</td>\n",
       "      <td>13.00</td>\n",
       "      <td>0</td>\n",
       "      <td>N</td>\n",
       "      <td>0</td>\n",
       "      <td>NaN</td>\n",
       "      <td>NaN</td>\n",
       "      <td>NaN</td>\n",
       "      <td>NaN</td>\n",
       "      <td>NaN</td>\n",
       "    </tr>\n",
       "    <tr>\n",
       "      <th>1936757</th>\n",
       "      <td>7009727</td>\n",
       "      <td>2008</td>\n",
       "      <td>12</td>\n",
       "      <td>13</td>\n",
       "      <td>6</td>\n",
       "      <td>1110.00</td>\n",
       "      <td>1103</td>\n",
       "      <td>1413.00</td>\n",
       "      <td>1418</td>\n",
       "      <td>DL</td>\n",
       "      <td>1641</td>\n",
       "      <td>N908DL</td>\n",
       "      <td>123.00</td>\n",
       "      <td>135.00</td>\n",
       "      <td>104.00</td>\n",
       "      <td>-5.00</td>\n",
       "      <td>7.00</td>\n",
       "      <td>SAT</td>\n",
       "      <td>ATL</td>\n",
       "      <td>874</td>\n",
       "      <td>8.00</td>\n",
       "      <td>11.00</td>\n",
       "      <td>0</td>\n",
       "      <td>N</td>\n",
       "      <td>0</td>\n",
       "      <td>NaN</td>\n",
       "      <td>NaN</td>\n",
       "      <td>NaN</td>\n",
       "      <td>NaN</td>\n",
       "      <td>NaN</td>\n",
       "    </tr>\n",
       "  </tbody>\n",
       "</table>\n",
       "<p>1936758 rows × 30 columns</p>\n",
       "</div>"
      ],
      "text/plain": [
       "         Unnamed: 0  Year  Month  DayofMonth  DayOfWeek  DepTime  CRSDepTime  \\\n",
       "0                 0  2008      1           3          4  2003.00        1955   \n",
       "1                 1  2008      1           3          4   754.00         735   \n",
       "2                 2  2008      1           3          4   628.00         620   \n",
       "3                 4  2008      1           3          4  1829.00        1755   \n",
       "4                 5  2008      1           3          4  1940.00        1915   \n",
       "...             ...   ...    ...         ...        ...      ...         ...   \n",
       "1936753     7009710  2008     12          13          6  1250.00        1220   \n",
       "1936754     7009717  2008     12          13          6   657.00         600   \n",
       "1936755     7009718  2008     12          13          6  1007.00         847   \n",
       "1936756     7009726  2008     12          13          6  1251.00        1240   \n",
       "1936757     7009727  2008     12          13          6  1110.00        1103   \n",
       "\n",
       "         ArrTime  CRSArrTime UniqueCarrier  FlightNum TailNum  \\\n",
       "0        2211.00        2225            WN        335  N712SW   \n",
       "1        1002.00        1000            WN       3231  N772SW   \n",
       "2         804.00         750            WN        448  N428WN   \n",
       "3        1959.00        1925            WN       3920  N464WN   \n",
       "4        2121.00        2110            WN        378  N726SW   \n",
       "...          ...         ...           ...        ...     ...   \n",
       "1936753  1617.00        1552            DL       1621  N938DL   \n",
       "1936754   904.00         749            DL       1631  N3743H   \n",
       "1936755  1149.00        1010            DL       1631  N909DA   \n",
       "1936756  1446.00        1437            DL       1639  N646DL   \n",
       "1936757  1413.00        1418            DL       1641  N908DL   \n",
       "\n",
       "         ActualElapsedTime  CRSElapsedTime  AirTime  ArrDelay  DepDelay  \\\n",
       "0                   128.00          150.00   116.00    -14.00      8.00   \n",
       "1                   128.00          145.00   113.00      2.00     19.00   \n",
       "2                    96.00           90.00    76.00     14.00      8.00   \n",
       "3                    90.00           90.00    77.00     34.00     34.00   \n",
       "4                   101.00          115.00    87.00     11.00     25.00   \n",
       "...                    ...             ...      ...       ...       ...   \n",
       "1936753             147.00          152.00   120.00     25.00     30.00   \n",
       "1936754             127.00          109.00    78.00     75.00     57.00   \n",
       "1936755             162.00          143.00   122.00     99.00     80.00   \n",
       "1936756             115.00          117.00    89.00      9.00     11.00   \n",
       "1936757             123.00          135.00   104.00     -5.00      7.00   \n",
       "\n",
       "        Origin Dest  Distance  TaxiIn  TaxiOut  Cancelled CancellationCode  \\\n",
       "0          IAD  TPA       810    4.00     8.00          0                N   \n",
       "1          IAD  TPA       810    5.00    10.00          0                N   \n",
       "2          IND  BWI       515    3.00    17.00          0                N   \n",
       "3          IND  BWI       515    3.00    10.00          0                N   \n",
       "4          IND  JAX       688    4.00    10.00          0                N   \n",
       "...        ...  ...       ...     ...      ...        ...              ...   \n",
       "1936753    MSP  ATL       906    9.00    18.00          0                N   \n",
       "1936754    RIC  ATL       481   15.00    34.00          0                N   \n",
       "1936755    ATL  IAH       689    8.00    32.00          0                N   \n",
       "1936756    IAD  ATL       533   13.00    13.00          0                N   \n",
       "1936757    SAT  ATL       874    8.00    11.00          0                N   \n",
       "\n",
       "         Diverted  CarrierDelay  WeatherDelay  NASDelay  SecurityDelay  \\\n",
       "0               0           NaN           NaN       NaN            NaN   \n",
       "1               0           NaN           NaN       NaN            NaN   \n",
       "2               0           NaN           NaN       NaN            NaN   \n",
       "3               0          2.00          0.00      0.00           0.00   \n",
       "4               0           NaN           NaN       NaN            NaN   \n",
       "...           ...           ...           ...       ...            ...   \n",
       "1936753         0          3.00          0.00      0.00           0.00   \n",
       "1936754         0          0.00         57.00     18.00           0.00   \n",
       "1936755         0          1.00          0.00     19.00           0.00   \n",
       "1936756         0           NaN           NaN       NaN            NaN   \n",
       "1936757         0           NaN           NaN       NaN            NaN   \n",
       "\n",
       "         LateAircraftDelay  \n",
       "0                      NaN  \n",
       "1                      NaN  \n",
       "2                      NaN  \n",
       "3                    32.00  \n",
       "4                      NaN  \n",
       "...                    ...  \n",
       "1936753              22.00  \n",
       "1936754               0.00  \n",
       "1936755              79.00  \n",
       "1936756                NaN  \n",
       "1936757                NaN  \n",
       "\n",
       "[1936758 rows x 30 columns]"
      ]
     },
     "execution_count": 184,
     "metadata": {},
     "output_type": "execute_result"
    }
   ],
   "source": [
    "pd.set_option('display.max_columns', 30)\n",
    "df"
   ]
  },
  {
   "cell_type": "markdown",
   "metadata": {},
   "source": [
    "O que representa cada coluna:\n",
    "\n",
    "**Year:** O ano da data do voo.\n",
    "\n",
    "**Month:** O mês da data do voo.\n",
    "\n",
    "**DayofMonth:** O dia do mês da data do voo.\n",
    "\n",
    "**DayOfWeek:** O dia da semana da data do voo (1 para segunda-feira, 2 para terça-feira, e assim por diante).\n",
    "\n",
    "**DepTime:** A hora de partida real do voo (formato HHMM).\n",
    "\n",
    "**CRSDepTime:** A hora de partida programada do voo (formato HHMM).\n",
    "\n",
    "**ArrTime:** A hora de chegada real do voo (formato HHMM).\n",
    "\n",
    "**CRSArrTime:** A hora de chegada programada do voo (formato HHMM).\n",
    "\n",
    "**UniqueCarrier:** O código do transportador aéreo.\n",
    "\n",
    "**FlightNum:** O número do voo.\n",
    "\n",
    "**TailNum:** O número de cauda da aeronave.\n",
    "\n",
    "**ActualElapsedTime:** O tempo real de voo em minutos.\n",
    "\n",
    "**CRSElapsedTime:** O tempo de voo programado em minutos.\n",
    "\n",
    "**AirTime:** O tempo real no ar em minutos.\n",
    "\n",
    "**ArrDelay:** O atraso na chegada em minutos.\n",
    "\n",
    "**DepDelay:** O atraso na partida em minutos.\n",
    "\n",
    "**Origin:** O aeroporto de origem do voo.\n",
    "\n",
    "**Dest:** O aeroporto de destino do voo.\n",
    "\n",
    "**Distance:** A distância percorrida em milhas.\n",
    "\n",
    "**TaxiIn:** O tempo desde que a aeronave começa a se mover na pista até o momento em que efetivamente decola. Antes da decolagem\n",
    "\n",
    "**TaxiOut:** O tempo desde que a aeronave toca o solo até chegar ao portão de desembarque no pouso.\n",
    "\n",
    "**Cancelled:** Indica se o voo foi cancelado (1 para sim, 0 para não).\n",
    "\n",
    "**CancellationCode:** O código de cancelamento, se o voo foi cancelado. Sendo A = transportadora, B = clima, C = NAS(National Airspace System), D = segurança\n",
    "\n",
    "**Diverted:** Indica se o voo foi desviado (1 para sim, 0 para não).\n",
    "\n",
    "**CarrierDelay:** O tempo de atraso atribuído à companhia aérea em minutos.\n",
    "\n",
    "**WeatherDelay:** O tempo de atraso atribuído ao clima em minutos.\n",
    "\n",
    "**NASDelay:** O tempo de atraso atribuído ao Sistema Nacional de Aviação em minutos.\n",
    "\n",
    "**SecurityDelay:** O tempo de atraso atribuído à segurança em minutos.\n",
    "\n",
    "**LateAircraftDelay:** O tempo de atraso atribuído à aeronave em minutos.\n"
   ]
  },
  {
   "cell_type": "code",
   "execution_count": 185,
   "metadata": {},
   "outputs": [
    {
     "data": {
      "text/plain": [
       "array([2008], dtype=int64)"
      ]
     },
     "execution_count": 185,
     "metadata": {},
     "output_type": "execute_result"
    }
   ],
   "source": [
    "df['Year'].unique() # só ha valores de 2008"
   ]
  },
  {
   "cell_type": "code",
   "execution_count": 186,
   "metadata": {},
   "outputs": [],
   "source": [
    "# Excluindo a primeira coluna\n",
    "df = df.drop(df.columns[:1], axis=1)"
   ]
  },
  {
   "cell_type": "code",
   "execution_count": 187,
   "metadata": {},
   "outputs": [],
   "source": [
    "# Excluindo colunas que não serão utilizadas na análise\n",
    "df.drop(['Year','TaxiIn', 'TaxiOut', 'TailNum', 'FlightNum', 'UniqueCarrier',\n",
    "        'DepTime', 'CRSDepTime','ArrTime','CRSArrTime'], # horários\n",
    "                       axis=1, inplace=True)"
   ]
  },
  {
   "cell_type": "code",
   "execution_count": 188,
   "metadata": {},
   "outputs": [
    {
     "data": {
      "text/plain": [
       "(1936758, 19)"
      ]
     },
     "execution_count": 188,
     "metadata": {},
     "output_type": "execute_result"
    }
   ],
   "source": [
    "df.shape"
   ]
  },
  {
   "cell_type": "code",
   "execution_count": 189,
   "metadata": {},
   "outputs": [
    {
     "data": {
      "text/plain": [
       "Month                  12\n",
       "DayofMonth             31\n",
       "DayOfWeek               7\n",
       "ActualElapsedTime     673\n",
       "CRSElapsedTime        515\n",
       "AirTime               650\n",
       "ArrDelay             1128\n",
       "DepDelay             1058\n",
       "Origin                303\n",
       "Dest                  304\n",
       "Distance             1419\n",
       "Cancelled               2\n",
       "CancellationCode        4\n",
       "Diverted                2\n",
       "CarrierDelay          983\n",
       "WeatherDelay          599\n",
       "NASDelay              574\n",
       "SecurityDelay         156\n",
       "LateAircraftDelay     564\n",
       "dtype: int64"
      ]
     },
     "execution_count": 189,
     "metadata": {},
     "output_type": "execute_result"
    }
   ],
   "source": [
    "df.nunique()"
   ]
  },
  {
   "cell_type": "code",
   "execution_count": 190,
   "metadata": {},
   "outputs": [
    {
     "name": "stdout",
     "output_type": "stream",
     "text": [
      "Verificando se há valores de tempo negativos\n",
      "ActualElapsedTime 0\n",
      "CRSElapsedTime 6\n",
      "AirTime 0\n"
     ]
    }
   ],
   "source": [
    "print('Verificando se há valores de tempo negativos')\n",
    "print('ActualElapsedTime',len(df[df['ActualElapsedTime']<0]['ActualElapsedTime']))\n",
    "print('CRSElapsedTime',len(df[df['CRSElapsedTime']<0]['CRSElapsedTime']))\n",
    "print('AirTime',len(df[df['AirTime']<0]['AirTime']))"
   ]
  },
  {
   "cell_type": "code",
   "execution_count": 191,
   "metadata": {},
   "outputs": [
    {
     "name": "stdout",
     "output_type": "stream",
     "text": [
      "Verificando se há valores de tempo zerados ou negativos\n",
      "ActualElapsedTime 0\n",
      "CRSElapsedTime 6\n",
      "AirTime 7\n"
     ]
    }
   ],
   "source": [
    "print('Verificando se há valores de tempo zerados ou negativos')\n",
    "print('ActualElapsedTime',len(df[df['ActualElapsedTime']<=0]['ActualElapsedTime']))\n",
    "print('CRSElapsedTime',len(df[df['CRSElapsedTime']<=0]['CRSElapsedTime']))\n",
    "print('AirTime',len(df[df['AirTime']<=0]['AirTime']))"
   ]
  },
  {
   "cell_type": "markdown",
   "metadata": {},
   "source": [
    "- 'CRSElapsedTime' registra o tempo de voo programado em minutos, valores negativos são valores incosistentes, logo, precisam ser retirados."
   ]
  },
  {
   "cell_type": "code",
   "execution_count": 192,
   "metadata": {},
   "outputs": [],
   "source": [
    "df = df[df['CRSElapsedTime']>=0]"
   ]
  },
  {
   "cell_type": "markdown",
   "metadata": {},
   "source": [
    "Valores Zerados ou são de voos cancelados, Desviados ou são registros errados"
   ]
  },
  {
   "cell_type": "code",
   "execution_count": 193,
   "metadata": {},
   "outputs": [],
   "source": [
    "# Filtrando voos não cancelados\n",
    "df = df[df['Cancelled']==0]\n",
    "# como já foi retirado os cancelados, não precisa manter a coluna de cancelados e seus motivos\n",
    "df.drop(['Cancelled','CancellationCode'],axis=1, inplace=True)\n",
    "# filtrando os voos não desviados\n",
    "df = df[df['Diverted']==0]\n",
    "df.drop(['Diverted'],axis=1, inplace=True)\n"
   ]
  },
  {
   "cell_type": "code",
   "execution_count": 194,
   "metadata": {},
   "outputs": [
    {
     "data": {
      "text/plain": [
       "Index(['Month', 'DayofMonth', 'DayOfWeek', 'ActualElapsedTime',\n",
       "       'CRSElapsedTime', 'AirTime', 'ArrDelay', 'DepDelay', 'Origin', 'Dest',\n",
       "       'Distance', 'CarrierDelay', 'WeatherDelay', 'NASDelay', 'SecurityDelay',\n",
       "       'LateAircraftDelay'],\n",
       "      dtype='object')"
      ]
     },
     "execution_count": 194,
     "metadata": {},
     "output_type": "execute_result"
    }
   ],
   "source": [
    "df.columns"
   ]
  },
  {
   "cell_type": "code",
   "execution_count": 195,
   "metadata": {},
   "outputs": [
    {
     "name": "stdout",
     "output_type": "stream",
     "text": [
      "Verificando se há valores de tempo zerados ou negativos\n",
      "ActualElapsedTime 0\n",
      "CRSElapsedTime 0\n",
      "AirTime 7\n"
     ]
    }
   ],
   "source": [
    "print('Verificando se há valores de tempo zerados ou negativos')\n",
    "print('ActualElapsedTime',len(df[df['ActualElapsedTime']<=0]['ActualElapsedTime']))\n",
    "print('CRSElapsedTime',len(df[df['CRSElapsedTime']<=0]['CRSElapsedTime']))\n",
    "print('AirTime',len(df[df['AirTime']<=0]['AirTime']))"
   ]
  },
  {
   "cell_type": "markdown",
   "metadata": {},
   "source": [
    "como o AirTime ainda apareceu valores inconsistentes, foram retirados do df"
   ]
  },
  {
   "cell_type": "code",
   "execution_count": 196,
   "metadata": {},
   "outputs": [],
   "source": [
    "df= df[df['AirTime']>0]"
   ]
  },
  {
   "cell_type": "code",
   "execution_count": 197,
   "metadata": {},
   "outputs": [
    {
     "name": "stdout",
     "output_type": "stream",
     "text": [
      "Verificando se há valores de tempo zerados\n",
      "ActualElapsedTime 0\n",
      "CRSElapsedTime 0\n",
      "AirTime 0\n"
     ]
    }
   ],
   "source": [
    "# verificando se foram retirados todos os dados zerados nas colunas especificadas\n",
    "print('Verificando se há valores de tempo zerados')\n",
    "print('ActualElapsedTime',len(df[df['ActualElapsedTime']<=0]['ActualElapsedTime']))\n",
    "print('CRSElapsedTime',len(df[df['CRSElapsedTime']<=0]['CRSElapsedTime']))\n",
    "print('AirTime',len(df[df['AirTime']<=0]['AirTime']))"
   ]
  },
  {
   "cell_type": "code",
   "execution_count": 198,
   "metadata": {},
   "outputs": [
    {
     "data": {
      "text/plain": [
       "Month                  12\n",
       "DayofMonth             31\n",
       "DayOfWeek               7\n",
       "ActualElapsedTime     673\n",
       "CRSElapsedTime        499\n",
       "AirTime               649\n",
       "ArrDelay             1128\n",
       "DepDelay             1053\n",
       "Origin                303\n",
       "Dest                  302\n",
       "Distance             1407\n",
       "CarrierDelay          983\n",
       "WeatherDelay          599\n",
       "NASDelay              574\n",
       "SecurityDelay         156\n",
       "LateAircraftDelay     564\n",
       "dtype: int64"
      ]
     },
     "execution_count": 198,
     "metadata": {},
     "output_type": "execute_result"
    }
   ],
   "source": [
    "df.nunique()"
   ]
  },
  {
   "cell_type": "code",
   "execution_count": 199,
   "metadata": {},
   "outputs": [
    {
     "name": "stdout",
     "output_type": "stream",
     "text": [
      "<class 'pandas.core.frame.DataFrame'>\n",
      "Index: 1928363 entries, 0 to 1936757\n",
      "Data columns (total 16 columns):\n",
      " #   Column             Dtype  \n",
      "---  ------             -----  \n",
      " 0   Month              int64  \n",
      " 1   DayofMonth         int64  \n",
      " 2   DayOfWeek          int64  \n",
      " 3   ActualElapsedTime  float64\n",
      " 4   CRSElapsedTime     float64\n",
      " 5   AirTime            float64\n",
      " 6   ArrDelay           float64\n",
      " 7   DepDelay           float64\n",
      " 8   Origin             object \n",
      " 9   Dest               object \n",
      " 10  Distance           int64  \n",
      " 11  CarrierDelay       float64\n",
      " 12  WeatherDelay       float64\n",
      " 13  NASDelay           float64\n",
      " 14  SecurityDelay      float64\n",
      " 15  LateAircraftDelay  float64\n",
      "dtypes: float64(10), int64(4), object(2)\n",
      "memory usage: 250.1+ MB\n",
      "None\n"
     ]
    }
   ],
   "source": [
    "print(df.info())"
   ]
  },
  {
   "cell_type": "markdown",
   "metadata": {},
   "source": [
    "Verificar a quantidade de linhas com valores nulos"
   ]
  },
  {
   "cell_type": "code",
   "execution_count": 200,
   "metadata": {},
   "outputs": [
    {
     "data": {
      "text/plain": [
       "1928363"
      ]
     },
     "execution_count": 200,
     "metadata": {},
     "output_type": "execute_result"
    }
   ],
   "source": [
    "len(df)"
   ]
  },
  {
   "cell_type": "code",
   "execution_count": 201,
   "metadata": {},
   "outputs": [
    {
     "data": {
      "text/plain": [
       "CarrierDelay         680881\n",
       "WeatherDelay         680881\n",
       "NASDelay             680881\n",
       "SecurityDelay        680881\n",
       "LateAircraftDelay    680881\n",
       "Month                     0\n",
       "DayofMonth                0\n",
       "DayOfWeek                 0\n",
       "ActualElapsedTime         0\n",
       "CRSElapsedTime            0\n",
       "AirTime                   0\n",
       "ArrDelay                  0\n",
       "DepDelay                  0\n",
       "Origin                    0\n",
       "Dest                      0\n",
       "Distance                  0\n",
       "dtype: int64"
      ]
     },
     "execution_count": 201,
     "metadata": {},
     "output_type": "execute_result"
    }
   ],
   "source": [
    "df.isnull().sum().sort_values(ascending=False)"
   ]
  },
  {
   "cell_type": "markdown",
   "metadata": {},
   "source": [
    "Voos que não sofreram atrasos são caracterizados por valores nulos nas colunas que demonstram qualquer tipo de atraso (LateAircraftDelay, SecurityDelay, NASDelay, WeatherDelay e CarrierDelay)"
   ]
  },
  {
   "cell_type": "code",
   "execution_count": 202,
   "metadata": {},
   "outputs": [],
   "source": [
    "df = df[df.notnull().all(axis=1)]  # DataFrame sem linhas contendo valores nulos"
   ]
  },
  {
   "cell_type": "code",
   "execution_count": 203,
   "metadata": {},
   "outputs": [
    {
     "name": "stdout",
     "output_type": "stream",
     "text": [
      "verificado os nulos depois do tratamento\n"
     ]
    },
    {
     "data": {
      "text/plain": [
       "Month                0\n",
       "DayofMonth           0\n",
       "DayOfWeek            0\n",
       "ActualElapsedTime    0\n",
       "CRSElapsedTime       0\n",
       "AirTime              0\n",
       "ArrDelay             0\n",
       "DepDelay             0\n",
       "Origin               0\n",
       "Dest                 0\n",
       "Distance             0\n",
       "CarrierDelay         0\n",
       "WeatherDelay         0\n",
       "NASDelay             0\n",
       "SecurityDelay        0\n",
       "LateAircraftDelay    0\n",
       "dtype: int64"
      ]
     },
     "execution_count": 203,
     "metadata": {},
     "output_type": "execute_result"
    }
   ],
   "source": [
    "print('verificado os nulos depois do tratamento')\n",
    "df.isnull().sum().sort_values(ascending=False)"
   ]
  },
  {
   "cell_type": "code",
   "execution_count": 204,
   "metadata": {},
   "outputs": [],
   "source": [
    "lista_var_continuas = ['ActualElapsedTime','CRSElapsedTime', \n",
    "                       'AirTime','ArrDelay','DepDelay','Distance',\n",
    "                       'CarrierDelay','WeatherDelay','SecurityDelay',\n",
    "                       'NASDelay','LateAircraftDelay']\n",
    "lista_var_discretas = ['Month','DayofMonth','DayOfWeek']"
   ]
  },
  {
   "cell_type": "code",
   "execution_count": 205,
   "metadata": {},
   "outputs": [
    {
     "data": {
      "text/html": [
       "<div>\n",
       "<style scoped>\n",
       "    .dataframe tbody tr th:only-of-type {\n",
       "        vertical-align: middle;\n",
       "    }\n",
       "\n",
       "    .dataframe tbody tr th {\n",
       "        vertical-align: top;\n",
       "    }\n",
       "\n",
       "    .dataframe thead th {\n",
       "        text-align: right;\n",
       "    }\n",
       "</style>\n",
       "<table border=\"1\" class=\"dataframe\">\n",
       "  <thead>\n",
       "    <tr style=\"text-align: right;\">\n",
       "      <th></th>\n",
       "      <th>ActualElapsedTime</th>\n",
       "      <th>CRSElapsedTime</th>\n",
       "      <th>AirTime</th>\n",
       "      <th>ArrDelay</th>\n",
       "      <th>DepDelay</th>\n",
       "      <th>Distance</th>\n",
       "      <th>CarrierDelay</th>\n",
       "      <th>WeatherDelay</th>\n",
       "      <th>SecurityDelay</th>\n",
       "      <th>NASDelay</th>\n",
       "      <th>LateAircraftDelay</th>\n",
       "    </tr>\n",
       "  </thead>\n",
       "  <tbody>\n",
       "    <tr>\n",
       "      <th>count</th>\n",
       "      <td>1247482.00</td>\n",
       "      <td>1247482.00</td>\n",
       "      <td>1247482.00</td>\n",
       "      <td>1247482.00</td>\n",
       "      <td>1247482.00</td>\n",
       "      <td>1247482.00</td>\n",
       "      <td>1247482.00</td>\n",
       "      <td>1247482.00</td>\n",
       "      <td>1247482.00</td>\n",
       "      <td>1247482.00</td>\n",
       "      <td>1247482.00</td>\n",
       "    </tr>\n",
       "    <tr>\n",
       "      <th>mean</th>\n",
       "      <td>135.38</td>\n",
       "      <td>131.76</td>\n",
       "      <td>107.42</td>\n",
       "      <td>63.29</td>\n",
       "      <td>59.68</td>\n",
       "      <td>741.59</td>\n",
       "      <td>19.18</td>\n",
       "      <td>3.70</td>\n",
       "      <td>0.09</td>\n",
       "      <td>15.02</td>\n",
       "      <td>25.30</td>\n",
       "    </tr>\n",
       "    <tr>\n",
       "      <th>std</th>\n",
       "      <td>72.30</td>\n",
       "      <td>69.53</td>\n",
       "      <td>68.17</td>\n",
       "      <td>60.75</td>\n",
       "      <td>59.87</td>\n",
       "      <td>559.36</td>\n",
       "      <td>43.55</td>\n",
       "      <td>21.49</td>\n",
       "      <td>2.02</td>\n",
       "      <td>33.83</td>\n",
       "      <td>42.05</td>\n",
       "    </tr>\n",
       "    <tr>\n",
       "      <th>min</th>\n",
       "      <td>14.00</td>\n",
       "      <td>1.00</td>\n",
       "      <td>1.00</td>\n",
       "      <td>15.00</td>\n",
       "      <td>6.00</td>\n",
       "      <td>11.00</td>\n",
       "      <td>0.00</td>\n",
       "      <td>0.00</td>\n",
       "      <td>0.00</td>\n",
       "      <td>0.00</td>\n",
       "      <td>0.00</td>\n",
       "    </tr>\n",
       "    <tr>\n",
       "      <th>25%</th>\n",
       "      <td>83.00</td>\n",
       "      <td>80.00</td>\n",
       "      <td>58.00</td>\n",
       "      <td>26.00</td>\n",
       "      <td>24.00</td>\n",
       "      <td>334.00</td>\n",
       "      <td>0.00</td>\n",
       "      <td>0.00</td>\n",
       "      <td>0.00</td>\n",
       "      <td>0.00</td>\n",
       "      <td>0.00</td>\n",
       "    </tr>\n",
       "    <tr>\n",
       "      <th>50%</th>\n",
       "      <td>118.00</td>\n",
       "      <td>115.00</td>\n",
       "      <td>90.00</td>\n",
       "      <td>43.00</td>\n",
       "      <td>41.00</td>\n",
       "      <td>595.00</td>\n",
       "      <td>2.00</td>\n",
       "      <td>0.00</td>\n",
       "      <td>0.00</td>\n",
       "      <td>2.00</td>\n",
       "      <td>8.00</td>\n",
       "    </tr>\n",
       "    <tr>\n",
       "      <th>75%</th>\n",
       "      <td>167.00</td>\n",
       "      <td>161.00</td>\n",
       "      <td>136.00</td>\n",
       "      <td>79.00</td>\n",
       "      <td>75.00</td>\n",
       "      <td>972.00</td>\n",
       "      <td>21.00</td>\n",
       "      <td>0.00</td>\n",
       "      <td>0.00</td>\n",
       "      <td>15.00</td>\n",
       "      <td>33.00</td>\n",
       "    </tr>\n",
       "    <tr>\n",
       "      <th>max</th>\n",
       "      <td>1114.00</td>\n",
       "      <td>660.00</td>\n",
       "      <td>1091.00</td>\n",
       "      <td>2461.00</td>\n",
       "      <td>2467.00</td>\n",
       "      <td>4962.00</td>\n",
       "      <td>2436.00</td>\n",
       "      <td>1352.00</td>\n",
       "      <td>392.00</td>\n",
       "      <td>1357.00</td>\n",
       "      <td>1316.00</td>\n",
       "    </tr>\n",
       "  </tbody>\n",
       "</table>\n",
       "</div>"
      ],
      "text/plain": [
       "       ActualElapsedTime  CRSElapsedTime    AirTime   ArrDelay   DepDelay  \\\n",
       "count         1247482.00      1247482.00 1247482.00 1247482.00 1247482.00   \n",
       "mean              135.38          131.76     107.42      63.29      59.68   \n",
       "std                72.30           69.53      68.17      60.75      59.87   \n",
       "min                14.00            1.00       1.00      15.00       6.00   \n",
       "25%                83.00           80.00      58.00      26.00      24.00   \n",
       "50%               118.00          115.00      90.00      43.00      41.00   \n",
       "75%               167.00          161.00     136.00      79.00      75.00   \n",
       "max              1114.00          660.00    1091.00    2461.00    2467.00   \n",
       "\n",
       "        Distance  CarrierDelay  WeatherDelay  SecurityDelay   NASDelay  \\\n",
       "count 1247482.00    1247482.00    1247482.00     1247482.00 1247482.00   \n",
       "mean      741.59         19.18          3.70           0.09      15.02   \n",
       "std       559.36         43.55         21.49           2.02      33.83   \n",
       "min        11.00          0.00          0.00           0.00       0.00   \n",
       "25%       334.00          0.00          0.00           0.00       0.00   \n",
       "50%       595.00          2.00          0.00           0.00       2.00   \n",
       "75%       972.00         21.00          0.00           0.00      15.00   \n",
       "max      4962.00       2436.00       1352.00         392.00    1357.00   \n",
       "\n",
       "       LateAircraftDelay  \n",
       "count         1247482.00  \n",
       "mean               25.30  \n",
       "std                42.05  \n",
       "min                 0.00  \n",
       "25%                 0.00  \n",
       "50%                 8.00  \n",
       "75%                33.00  \n",
       "max              1316.00  "
      ]
     },
     "execution_count": 205,
     "metadata": {},
     "output_type": "execute_result"
    }
   ],
   "source": [
    "df[lista_var_continuas].describe()"
   ]
  },
  {
   "cell_type": "markdown",
   "metadata": {},
   "source": [
    "Podemos verificar que há uma grande diferença ente o valor máximo e o quartil 75% para as variáveis que quantificam o atraso"
   ]
  },
  {
   "cell_type": "code",
   "execution_count": 206,
   "metadata": {},
   "outputs": [
    {
     "name": "stdout",
     "output_type": "stream",
     "text": [
      "count   1247482.00\n",
      "mean         63.29\n",
      "std          60.75\n",
      "min          15.00\n",
      "50%          43.00\n",
      "75%          79.00\n",
      "80%          91.00\n",
      "90%         132.00\n",
      "95%         176.00\n",
      "max        2461.00\n",
      "Name: ArrDelay, dtype: float64\n"
     ]
    }
   ],
   "source": [
    "# Configurar opções de exibição para evitar notação científica\n",
    "pd.set_option('display.float_format', '{:.2f}'.format)\n",
    "\n",
    "# Mostrar estatísticas descritivas sem notação científica\n",
    "print(df['ArrDelay'].describe(percentiles=[0.75, 0.80, 0.90, 0.95]))"
   ]
  },
  {
   "cell_type": "markdown",
   "metadata": {},
   "source": [
    "serão retirados os registros com atraso maior que o quantil de 95%"
   ]
  },
  {
   "cell_type": "code",
   "execution_count": 207,
   "metadata": {},
   "outputs": [],
   "source": [
    "# Calcular o quantil de 95%\n",
    "quantil = df['ArrDelay'].quantile(0.95)\n",
    "\n",
    "# Aplicar o filtro\n",
    "df  = df.loc[df['ArrDelay'] <= quantil]"
   ]
  },
  {
   "cell_type": "markdown",
   "metadata": {},
   "source": [
    "Levando em consideração que o campo AirTime indica o tempo no ar em minutos, não faz sentido que um voo dure apenas uns minutos no ar. Por isso, será retirado os primeiro 5% dos dados de AirTime"
   ]
  },
  {
   "cell_type": "code",
   "execution_count": 208,
   "metadata": {},
   "outputs": [],
   "source": [
    "# Calcular o quantil de 5%\n",
    "quantil_5 = df['AirTime'].quantile(0.05)\n",
    "\n",
    "# Aplicar o filtro\n",
    "df  = df.loc[df['AirTime'] >= quantil_5]\n",
    "\n",
    "# Calcular o quantil de 5%\n",
    "quantil_5 = df['CRSElapsedTime'].quantile(0.05)\n",
    "\n",
    "# Aplicar o filtro\n",
    "df  = df.loc[df['CRSElapsedTime'] >= quantil_5]"
   ]
  },
  {
   "cell_type": "code",
   "execution_count": 209,
   "metadata": {},
   "outputs": [
    {
     "data": {
      "text/plain": [
       "count   1073266.00\n",
       "mean        142.65\n",
       "std          70.27\n",
       "min          40.00\n",
       "50%         125.00\n",
       "75%         172.00\n",
       "85%         209.00\n",
       "90%         240.00\n",
       "93%         266.00\n",
       "95%         290.00\n",
       "max         790.00\n",
       "Name: ActualElapsedTime, dtype: float64"
      ]
     },
     "execution_count": 209,
     "metadata": {},
     "output_type": "execute_result"
    }
   ],
   "source": [
    "df['ActualElapsedTime'].describe(percentiles=[0.75,0.85,0.9,0.93,0.95])"
   ]
  },
  {
   "cell_type": "code",
   "execution_count": 210,
   "metadata": {},
   "outputs": [],
   "source": [
    "# como voos extremamentes longos são incomuns, voos que duraram mais de 90% que o conjunto de dados serão retirados\n",
    "# Calcular o quantil de 95%\n",
    "quantil = df['ActualElapsedTime'].quantile(0.9)\n",
    "\n",
    "# Aplicar o filtro\n",
    "df  = df.loc[df['ActualElapsedTime'] <= quantil]"
   ]
  },
  {
   "cell_type": "code",
   "execution_count": 176,
   "metadata": {},
   "outputs": [],
   "source": [
    "# no mesmo sentido, voos com distâncias extremamente longas são incomuns, então serão retirados para melhor análise dos dados"
   ]
  },
  {
   "cell_type": "code",
   "execution_count": 211,
   "metadata": {},
   "outputs": [
    {
     "data": {
      "text/plain": [
       "count   966870.00\n",
       "mean       663.97\n",
       "std        353.73\n",
       "min         67.00\n",
       "50%        595.00\n",
       "75%        892.00\n",
       "85%       1040.00\n",
       "90%       1147.00\n",
       "95%       1379.00\n",
       "max       2288.00\n",
       "Name: Distance, dtype: float64"
      ]
     },
     "execution_count": 211,
     "metadata": {},
     "output_type": "execute_result"
    }
   ],
   "source": [
    "df['Distance'].describe(percentiles=[0.75,0.85,0.9,0.95])"
   ]
  },
  {
   "cell_type": "code",
   "execution_count": 212,
   "metadata": {},
   "outputs": [],
   "source": [
    "quantil = df['Distance'].quantile(0.95)\n",
    "\n",
    "# Aplicar o filtro\n",
    "df  = df.loc[df['Distance'] <= quantil]"
   ]
  },
  {
   "cell_type": "code",
   "execution_count": 213,
   "metadata": {},
   "outputs": [
    {
     "data": {
      "text/html": [
       "<div>\n",
       "<style scoped>\n",
       "    .dataframe tbody tr th:only-of-type {\n",
       "        vertical-align: middle;\n",
       "    }\n",
       "\n",
       "    .dataframe tbody tr th {\n",
       "        vertical-align: top;\n",
       "    }\n",
       "\n",
       "    .dataframe thead th {\n",
       "        text-align: right;\n",
       "    }\n",
       "</style>\n",
       "<table border=\"1\" class=\"dataframe\">\n",
       "  <thead>\n",
       "    <tr style=\"text-align: right;\">\n",
       "      <th></th>\n",
       "      <th>ActualElapsedTime</th>\n",
       "      <th>CRSElapsedTime</th>\n",
       "      <th>AirTime</th>\n",
       "      <th>ArrDelay</th>\n",
       "      <th>DepDelay</th>\n",
       "      <th>Distance</th>\n",
       "      <th>CarrierDelay</th>\n",
       "      <th>WeatherDelay</th>\n",
       "      <th>SecurityDelay</th>\n",
       "      <th>NASDelay</th>\n",
       "      <th>LateAircraftDelay</th>\n",
       "    </tr>\n",
       "  </thead>\n",
       "  <tbody>\n",
       "    <tr>\n",
       "      <th>count</th>\n",
       "      <td>919143.00</td>\n",
       "      <td>919143.00</td>\n",
       "      <td>919143.00</td>\n",
       "      <td>919143.00</td>\n",
       "      <td>919143.00</td>\n",
       "      <td>919143.00</td>\n",
       "      <td>919143.00</td>\n",
       "      <td>919143.00</td>\n",
       "      <td>919143.00</td>\n",
       "      <td>919143.00</td>\n",
       "      <td>919143.00</td>\n",
       "    </tr>\n",
       "    <tr>\n",
       "      <th>mean</th>\n",
       "      <td>120.20</td>\n",
       "      <td>117.52</td>\n",
       "      <td>93.02</td>\n",
       "      <td>53.58</td>\n",
       "      <td>50.90</td>\n",
       "      <td>617.66</td>\n",
       "      <td>15.59</td>\n",
       "      <td>2.81</td>\n",
       "      <td>0.09</td>\n",
       "      <td>12.76</td>\n",
       "      <td>22.33</td>\n",
       "    </tr>\n",
       "    <tr>\n",
       "      <th>std</th>\n",
       "      <td>40.57</td>\n",
       "      <td>37.70</td>\n",
       "      <td>37.10</td>\n",
       "      <td>36.92</td>\n",
       "      <td>37.31</td>\n",
       "      <td>295.36</td>\n",
       "      <td>27.21</td>\n",
       "      <td>13.75</td>\n",
       "      <td>1.79</td>\n",
       "      <td>25.21</td>\n",
       "      <td>32.19</td>\n",
       "    </tr>\n",
       "    <tr>\n",
       "      <th>min</th>\n",
       "      <td>40.00</td>\n",
       "      <td>62.00</td>\n",
       "      <td>34.00</td>\n",
       "      <td>15.00</td>\n",
       "      <td>6.00</td>\n",
       "      <td>67.00</td>\n",
       "      <td>0.00</td>\n",
       "      <td>0.00</td>\n",
       "      <td>0.00</td>\n",
       "      <td>0.00</td>\n",
       "      <td>0.00</td>\n",
       "    </tr>\n",
       "    <tr>\n",
       "      <th>25%</th>\n",
       "      <td>86.00</td>\n",
       "      <td>85.00</td>\n",
       "      <td>62.00</td>\n",
       "      <td>25.00</td>\n",
       "      <td>23.00</td>\n",
       "      <td>369.00</td>\n",
       "      <td>0.00</td>\n",
       "      <td>0.00</td>\n",
       "      <td>0.00</td>\n",
       "      <td>0.00</td>\n",
       "      <td>0.00</td>\n",
       "    </tr>\n",
       "    <tr>\n",
       "      <th>50%</th>\n",
       "      <td>115.00</td>\n",
       "      <td>111.00</td>\n",
       "      <td>87.00</td>\n",
       "      <td>41.00</td>\n",
       "      <td>40.00</td>\n",
       "      <td>581.00</td>\n",
       "      <td>2.00</td>\n",
       "      <td>0.00</td>\n",
       "      <td>0.00</td>\n",
       "      <td>1.00</td>\n",
       "      <td>9.00</td>\n",
       "    </tr>\n",
       "    <tr>\n",
       "      <th>75%</th>\n",
       "      <td>149.00</td>\n",
       "      <td>145.00</td>\n",
       "      <td>120.00</td>\n",
       "      <td>72.00</td>\n",
       "      <td>69.00</td>\n",
       "      <td>849.00</td>\n",
       "      <td>20.00</td>\n",
       "      <td>0.00</td>\n",
       "      <td>0.00</td>\n",
       "      <td>14.00</td>\n",
       "      <td>32.00</td>\n",
       "    </tr>\n",
       "    <tr>\n",
       "      <th>max</th>\n",
       "      <td>240.00</td>\n",
       "      <td>290.00</td>\n",
       "      <td>229.00</td>\n",
       "      <td>176.00</td>\n",
       "      <td>243.00</td>\n",
       "      <td>1379.00</td>\n",
       "      <td>176.00</td>\n",
       "      <td>176.00</td>\n",
       "      <td>170.00</td>\n",
       "      <td>176.00</td>\n",
       "      <td>176.00</td>\n",
       "    </tr>\n",
       "  </tbody>\n",
       "</table>\n",
       "</div>"
      ],
      "text/plain": [
       "       ActualElapsedTime  CRSElapsedTime   AirTime  ArrDelay  DepDelay  \\\n",
       "count          919143.00       919143.00 919143.00 919143.00 919143.00   \n",
       "mean              120.20          117.52     93.02     53.58     50.90   \n",
       "std                40.57           37.70     37.10     36.92     37.31   \n",
       "min                40.00           62.00     34.00     15.00      6.00   \n",
       "25%                86.00           85.00     62.00     25.00     23.00   \n",
       "50%               115.00          111.00     87.00     41.00     40.00   \n",
       "75%               149.00          145.00    120.00     72.00     69.00   \n",
       "max               240.00          290.00    229.00    176.00    243.00   \n",
       "\n",
       "       Distance  CarrierDelay  WeatherDelay  SecurityDelay  NASDelay  \\\n",
       "count 919143.00     919143.00     919143.00      919143.00 919143.00   \n",
       "mean     617.66         15.59          2.81           0.09     12.76   \n",
       "std      295.36         27.21         13.75           1.79     25.21   \n",
       "min       67.00          0.00          0.00           0.00      0.00   \n",
       "25%      369.00          0.00          0.00           0.00      0.00   \n",
       "50%      581.00          2.00          0.00           0.00      1.00   \n",
       "75%      849.00         20.00          0.00           0.00     14.00   \n",
       "max     1379.00        176.00        176.00         170.00    176.00   \n",
       "\n",
       "       LateAircraftDelay  \n",
       "count          919143.00  \n",
       "mean               22.33  \n",
       "std                32.19  \n",
       "min                 0.00  \n",
       "25%                 0.00  \n",
       "50%                 9.00  \n",
       "75%                32.00  \n",
       "max               176.00  "
      ]
     },
     "execution_count": 213,
     "metadata": {},
     "output_type": "execute_result"
    }
   ],
   "source": [
    "df[lista_var_continuas].describe()"
   ]
  },
  {
   "cell_type": "code",
   "execution_count": 214,
   "metadata": {},
   "outputs": [
    {
     "data": {
      "image/png": "[encoded data removed]",
      "text/plain": [
       "<Figure size 2000x500 with 3 Axes>"
      ]
     },
     "metadata": {},
     "output_type": "display_data"
    }
   ],
   "source": [
    "# Criar gráficos de barra para variáveis discretas\n",
    "fig, axs =plt.subplots(1,3, figsize = (20,5))\n",
    "\n",
    "for i, ax in zip(lista_var_discretas, axs.flatten()):\n",
    "    sns.countplot(x=i, data=df[[i]], ax=ax, color='goldenrod')\n",
    "    ax.set_title(f'Gráfico de Barra - {i}')\n",
    "    ax.set_xlabel('Valores')\n",
    "    ax.set_ylabel('Contagem')\n",
    "\n",
    "    # Ajusta a rotação dos rótulos para melhor legibilidade\n",
    "    ax.tick_params(axis='x', rotation=45)\n",
    "# Adiciona um título geral acima dos subgráficos\n",
    "fig.suptitle('Ocorrências - Voos Atrasados', fontsize=16)\n",
    "# Ajusta o layout para evitar sobreposição\n",
    "plt.tight_layout(rect=[0, 0, 1, 0.96])  # Ajusta o espaço para acomodar o título geral\n",
    "\n",
    "# Exibe a figura\n",
    "plt.show()"
   ]
  },
  {
   "cell_type": "code",
   "execution_count": 215,
   "metadata": {},
   "outputs": [
    {
     "data": {
      "image/png": "[encoded data removed]",
      "text/plain": [
       "<Figure size 800x500 with 6 Axes>"
      ]
     },
     "metadata": {},
     "output_type": "display_data"
    }
   ],
   "source": [
    "fig = plt.figure(figsize = (8,5))\n",
    "\n",
    "for i, col in enumerate(df[['ActualElapsedTime','CRSElapsedTime', \n",
    "                       'AirTime','ArrDelay','DepDelay','Distance']]):\n",
    "    plt.subplot(2,3,i+1)\n",
    "    plt.boxplot(df[col])\n",
    "    plt.xlabel(col)\n",
    "    plt.grid(axis='x', linestyle='--', alpha=0.7)\n",
    "    plt.axhline(y=df[col].mean(), linestyle='--', color=\"red\")\n",
    "    \n",
    "plt.tight_layout()     \n",
    "plt.show()"
   ]
  },
  {
   "cell_type": "code",
   "execution_count": 216,
   "metadata": {},
   "outputs": [
    {
     "data": {
      "image/png": "[encoded data removed]",
      "text/plain": [
       "<Figure size 1500x1000 with 6 Axes>"
      ]
     },
     "metadata": {},
     "output_type": "display_data"
    }
   ],
   "source": [
    "# Criação do grid de subgráficos 4x4\n",
    "fig, axs = plt.subplots(2, 3, figsize=(15, 10))\n",
    "\n",
    "\n",
    "for i, ax in zip(lista_var_continuas, axs.flatten()):\n",
    "    df[i].hist(bins=20, edgecolor='black', color ='NavajoWhite',ax=ax, zorder=4)\n",
    "    ax.set_title(f'{i}')\n",
    "# Adiciona um título geral acima dos subgráficos\n",
    "fig.suptitle('Histogramas', fontsize=16, zorder=1)  # Definindo zorder para o título geral\n",
    "\n",
    "# Ajusta o layout para evitar sobreposição\n",
    "plt.tight_layout(rect=[0, 0, 1, 0.96])  # Ajusta o espaço para acomodar o título geral\n",
    "\n",
    "plt.show()"
   ]
  },
  {
   "cell_type": "code",
   "execution_count": null,
   "metadata": {},
   "outputs": [],
   "source": []
  }
 ],
 "metadata": {
  "kernelspec": {
   "display_name": "Python 3",
   "language": "python",
   "name": "python3"
  },
  "language_info": {
   "codemirror_mode": {
    "name": "ipython",
    "version": 3
   },
   "file_extension": ".py",
   "mimetype": "text/x-python",
   "name": "python",
   "nbconvert_exporter": "python",
   "pygments_lexer": "ipython3",
   "version": "3.11.8"
  }
 },
 "nbformat": 4,
 "nbformat_minor": 2
}
